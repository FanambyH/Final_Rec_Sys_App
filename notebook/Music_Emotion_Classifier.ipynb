{
 "cells": [
  {
   "cell_type": "code",
   "execution_count": 1,
   "metadata": {
    "id": "sK8sCW2vpbx7"
   },
   "outputs": [
    {
     "name": "stderr",
     "output_type": "stream",
     "text": [
      "Using TensorFlow backend.\n"
     ]
    }
   ],
   "source": [
    "import librosa\n",
    "import pandas as pd\n",
    "import numpy as np\n",
    "import matplotlib.pyplot as plt\n",
    "%matplotlib inline\n",
    "import os\n",
    "import csv\n",
    "\n",
    "# Preprocessing\n",
    "from sklearn.model_selection import train_test_split\n",
    "from sklearn.preprocessing import LabelEncoder, StandardScaler, MinMaxScaler\n",
    "\n",
    "# model\n",
    "from sklearn.linear_model import LogisticRegression, LinearRegression\n",
    "# from catboost import CatBoostClassifier\n",
    "# from xgboost import XGBClassifier, XGBRFClassifier \n",
    "from sklearn.model_selection import KFold,StratifiedKFold\n",
    "from lightgbm import LGBMRegressor, LGBMClassifier\n",
    "# from sklearn.neural_network import MLPRegressor, MLPClassifier\n",
    "from sklearn.metrics import mean_absolute_error as mae, roc_auc_score,accuracy_score \n",
    "from sklearn.multioutput import MultiOutputClassifier\n",
    "# Keras\n",
    "import keras\n",
    "\n",
    "# save the model to disk\n",
    "import pickle"
   ]
  },
  {
   "cell_type": "markdown",
   "metadata": {},
   "source": [
    "# Read data"
   ]
  },
  {
   "cell_type": "code",
   "execution_count": 2,
   "metadata": {
    "colab": {
     "base_uri": "https://localhost:8080/",
     "height": 232
    },
    "id": "c6nqgVmfv19-",
    "outputId": "a92d63ff-c728-4f2f-b2cf-84496dc8e29d"
   },
   "outputs": [
    {
     "data": {
      "text/html": [
       "<div>\n",
       "<style scoped>\n",
       "    .dataframe tbody tr th:only-of-type {\n",
       "        vertical-align: middle;\n",
       "    }\n",
       "\n",
       "    .dataframe tbody tr th {\n",
       "        vertical-align: top;\n",
       "    }\n",
       "\n",
       "    .dataframe thead th {\n",
       "        text-align: right;\n",
       "    }\n",
       "</style>\n",
       "<table border=\"1\" class=\"dataframe\">\n",
       "  <thead>\n",
       "    <tr style=\"text-align: right;\">\n",
       "      <th></th>\n",
       "      <th>track id</th>\n",
       "      <th>chroma_sftf</th>\n",
       "      <th>rolloff</th>\n",
       "      <th>zero_crossing_rate</th>\n",
       "      <th>rmse</th>\n",
       "      <th>flux</th>\n",
       "      <th>contrast</th>\n",
       "      <th>flatness</th>\n",
       "      <th>sample_silence</th>\n",
       "      <th>mfcc_0</th>\n",
       "      <th>...</th>\n",
       "      <th>power</th>\n",
       "      <th>joyful_activation</th>\n",
       "      <th>tension</th>\n",
       "      <th>sadness</th>\n",
       "      <th>mood</th>\n",
       "      <th>liked</th>\n",
       "      <th>disliked</th>\n",
       "      <th>age</th>\n",
       "      <th>gender</th>\n",
       "      <th>mother tongue</th>\n",
       "    </tr>\n",
       "  </thead>\n",
       "  <tbody>\n",
       "    <tr>\n",
       "      <th>0</th>\n",
       "      <td>1</td>\n",
       "      <td>0.168468</td>\n",
       "      <td>5243.018296</td>\n",
       "      <td>0.115553</td>\n",
       "      <td>0.021488</td>\n",
       "      <td>1.004327</td>\n",
       "      <td>27.502646</td>\n",
       "      <td>0.00545</td>\n",
       "      <td>0</td>\n",
       "      <td>-404.308594</td>\n",
       "      <td>...</td>\n",
       "      <td>0</td>\n",
       "      <td>0</td>\n",
       "      <td>0</td>\n",
       "      <td>1</td>\n",
       "      <td>3</td>\n",
       "      <td>0</td>\n",
       "      <td>0</td>\n",
       "      <td>30</td>\n",
       "      <td>0</td>\n",
       "      <td>English</td>\n",
       "    </tr>\n",
       "    <tr>\n",
       "      <th>1</th>\n",
       "      <td>1</td>\n",
       "      <td>0.168468</td>\n",
       "      <td>5243.018296</td>\n",
       "      <td>0.115553</td>\n",
       "      <td>0.021488</td>\n",
       "      <td>1.004327</td>\n",
       "      <td>27.502646</td>\n",
       "      <td>0.00545</td>\n",
       "      <td>0</td>\n",
       "      <td>-404.308594</td>\n",
       "      <td>...</td>\n",
       "      <td>0</td>\n",
       "      <td>0</td>\n",
       "      <td>0</td>\n",
       "      <td>1</td>\n",
       "      <td>1</td>\n",
       "      <td>1</td>\n",
       "      <td>0</td>\n",
       "      <td>33</td>\n",
       "      <td>0</td>\n",
       "      <td>Russian</td>\n",
       "    </tr>\n",
       "    <tr>\n",
       "      <th>2</th>\n",
       "      <td>1</td>\n",
       "      <td>0.168468</td>\n",
       "      <td>5243.018296</td>\n",
       "      <td>0.115553</td>\n",
       "      <td>0.021488</td>\n",
       "      <td>1.004327</td>\n",
       "      <td>27.502646</td>\n",
       "      <td>0.00545</td>\n",
       "      <td>0</td>\n",
       "      <td>-404.308594</td>\n",
       "      <td>...</td>\n",
       "      <td>0</td>\n",
       "      <td>0</td>\n",
       "      <td>0</td>\n",
       "      <td>1</td>\n",
       "      <td>4</td>\n",
       "      <td>0</td>\n",
       "      <td>1</td>\n",
       "      <td>51</td>\n",
       "      <td>0</td>\n",
       "      <td>English</td>\n",
       "    </tr>\n",
       "    <tr>\n",
       "      <th>3</th>\n",
       "      <td>1</td>\n",
       "      <td>0.168468</td>\n",
       "      <td>5243.018296</td>\n",
       "      <td>0.115553</td>\n",
       "      <td>0.021488</td>\n",
       "      <td>1.004327</td>\n",
       "      <td>27.502646</td>\n",
       "      <td>0.00545</td>\n",
       "      <td>0</td>\n",
       "      <td>-404.308594</td>\n",
       "      <td>...</td>\n",
       "      <td>0</td>\n",
       "      <td>0</td>\n",
       "      <td>0</td>\n",
       "      <td>0</td>\n",
       "      <td>3</td>\n",
       "      <td>0</td>\n",
       "      <td>0</td>\n",
       "      <td>21</td>\n",
       "      <td>1</td>\n",
       "      <td>English</td>\n",
       "    </tr>\n",
       "    <tr>\n",
       "      <th>4</th>\n",
       "      <td>1</td>\n",
       "      <td>0.168468</td>\n",
       "      <td>5243.018296</td>\n",
       "      <td>0.115553</td>\n",
       "      <td>0.021488</td>\n",
       "      <td>1.004327</td>\n",
       "      <td>27.502646</td>\n",
       "      <td>0.00545</td>\n",
       "      <td>0</td>\n",
       "      <td>-404.308594</td>\n",
       "      <td>...</td>\n",
       "      <td>0</td>\n",
       "      <td>0</td>\n",
       "      <td>0</td>\n",
       "      <td>1</td>\n",
       "      <td>3</td>\n",
       "      <td>0</td>\n",
       "      <td>0</td>\n",
       "      <td>60</td>\n",
       "      <td>1</td>\n",
       "      <td>English</td>\n",
       "    </tr>\n",
       "  </tbody>\n",
       "</table>\n",
       "<p>5 rows × 46 columns</p>\n",
       "</div>"
      ],
      "text/plain": [
       "   track id  chroma_sftf      rolloff  zero_crossing_rate      rmse      flux  \\\n",
       "0         1     0.168468  5243.018296            0.115553  0.021488  1.004327   \n",
       "1         1     0.168468  5243.018296            0.115553  0.021488  1.004327   \n",
       "2         1     0.168468  5243.018296            0.115553  0.021488  1.004327   \n",
       "3         1     0.168468  5243.018296            0.115553  0.021488  1.004327   \n",
       "4         1     0.168468  5243.018296            0.115553  0.021488  1.004327   \n",
       "\n",
       "    contrast  flatness  sample_silence      mfcc_0  ...   power  \\\n",
       "0  27.502646   0.00545               0 -404.308594  ...       0   \n",
       "1  27.502646   0.00545               0 -404.308594  ...       0   \n",
       "2  27.502646   0.00545               0 -404.308594  ...       0   \n",
       "3  27.502646   0.00545               0 -404.308594  ...       0   \n",
       "4  27.502646   0.00545               0 -404.308594  ...       0   \n",
       "\n",
       "    joyful_activation   tension   sadness   mood   liked   disliked   age  \\\n",
       "0                   0         0         1      3       0          0    30   \n",
       "1                   0         0         1      1       1          0    33   \n",
       "2                   0         0         1      4       0          1    51   \n",
       "3                   0         0         0      3       0          0    21   \n",
       "4                   0         0         1      3       0          0    60   \n",
       "\n",
       "    gender   mother tongue  \n",
       "0        0         English  \n",
       "1        0         Russian  \n",
       "2        0         English  \n",
       "3        1         English  \n",
       "4        1         English  \n",
       "\n",
       "[5 rows x 46 columns]"
      ]
     },
     "execution_count": 2,
     "metadata": {},
     "output_type": "execute_result"
    }
   ],
   "source": [
    "train = pd.read_csv('../data/train_new_feat.csv')\n",
    "train.head()"
   ]
  },
  {
   "cell_type": "markdown",
   "metadata": {},
   "source": [
    "# Process data cleaning "
   ]
  },
  {
   "cell_type": "code",
   "execution_count": 3,
   "metadata": {},
   "outputs": [],
   "source": [
    "# define target labels\n",
    "LABELS = [' tenderness', ' calmness', ' power',\n",
    "                         ' joyful_activation', ' tension', ' sadness',\n",
    "                         ]\n",
    "#define useless features\n",
    "USELESS = [' amazement', ' solemnity',' nostalgia',' mother tongue',\n",
    "           'genre',' liked', 'sample_silence',' disliked' ]"
   ]
  },
  {
   "cell_type": "code",
   "execution_count": 5,
   "metadata": {},
   "outputs": [
    {
     "data": {
      "text/html": [
       "<div>\n",
       "<style scoped>\n",
       "    .dataframe tbody tr th:only-of-type {\n",
       "        vertical-align: middle;\n",
       "    }\n",
       "\n",
       "    .dataframe tbody tr th {\n",
       "        vertical-align: top;\n",
       "    }\n",
       "\n",
       "    .dataframe thead th {\n",
       "        text-align: right;\n",
       "    }\n",
       "</style>\n",
       "<table border=\"1\" class=\"dataframe\">\n",
       "  <thead>\n",
       "    <tr style=\"text-align: right;\">\n",
       "      <th></th>\n",
       "      <th>track id</th>\n",
       "      <th>chroma_sftf</th>\n",
       "      <th>rolloff</th>\n",
       "      <th>zero_crossing_rate</th>\n",
       "      <th>rmse</th>\n",
       "      <th>flux</th>\n",
       "      <th>contrast</th>\n",
       "      <th>flatness</th>\n",
       "      <th>sample_silence</th>\n",
       "      <th>mfcc_0</th>\n",
       "      <th>...</th>\n",
       "      <th>power</th>\n",
       "      <th>joyful_activation</th>\n",
       "      <th>tension</th>\n",
       "      <th>sadness</th>\n",
       "      <th>mood</th>\n",
       "      <th>liked</th>\n",
       "      <th>disliked</th>\n",
       "      <th>age</th>\n",
       "      <th>gender</th>\n",
       "      <th>mother tongue</th>\n",
       "    </tr>\n",
       "  </thead>\n",
       "  <tbody>\n",
       "    <tr>\n",
       "      <th>0</th>\n",
       "      <td>1</td>\n",
       "      <td>0.168468</td>\n",
       "      <td>5243.018296</td>\n",
       "      <td>0.115553</td>\n",
       "      <td>0.021488</td>\n",
       "      <td>1.004327</td>\n",
       "      <td>27.502646</td>\n",
       "      <td>0.00545</td>\n",
       "      <td>0</td>\n",
       "      <td>-404.308594</td>\n",
       "      <td>...</td>\n",
       "      <td>0</td>\n",
       "      <td>0</td>\n",
       "      <td>0</td>\n",
       "      <td>1</td>\n",
       "      <td>3</td>\n",
       "      <td>0</td>\n",
       "      <td>0</td>\n",
       "      <td>30</td>\n",
       "      <td>0</td>\n",
       "      <td>English</td>\n",
       "    </tr>\n",
       "    <tr>\n",
       "      <th>1</th>\n",
       "      <td>1</td>\n",
       "      <td>0.168468</td>\n",
       "      <td>5243.018296</td>\n",
       "      <td>0.115553</td>\n",
       "      <td>0.021488</td>\n",
       "      <td>1.004327</td>\n",
       "      <td>27.502646</td>\n",
       "      <td>0.00545</td>\n",
       "      <td>0</td>\n",
       "      <td>-404.308594</td>\n",
       "      <td>...</td>\n",
       "      <td>0</td>\n",
       "      <td>0</td>\n",
       "      <td>0</td>\n",
       "      <td>1</td>\n",
       "      <td>1</td>\n",
       "      <td>1</td>\n",
       "      <td>0</td>\n",
       "      <td>33</td>\n",
       "      <td>0</td>\n",
       "      <td>Russian</td>\n",
       "    </tr>\n",
       "    <tr>\n",
       "      <th>2</th>\n",
       "      <td>1</td>\n",
       "      <td>0.168468</td>\n",
       "      <td>5243.018296</td>\n",
       "      <td>0.115553</td>\n",
       "      <td>0.021488</td>\n",
       "      <td>1.004327</td>\n",
       "      <td>27.502646</td>\n",
       "      <td>0.00545</td>\n",
       "      <td>0</td>\n",
       "      <td>-404.308594</td>\n",
       "      <td>...</td>\n",
       "      <td>0</td>\n",
       "      <td>0</td>\n",
       "      <td>0</td>\n",
       "      <td>1</td>\n",
       "      <td>4</td>\n",
       "      <td>0</td>\n",
       "      <td>1</td>\n",
       "      <td>51</td>\n",
       "      <td>0</td>\n",
       "      <td>English</td>\n",
       "    </tr>\n",
       "    <tr>\n",
       "      <th>3</th>\n",
       "      <td>1</td>\n",
       "      <td>0.168468</td>\n",
       "      <td>5243.018296</td>\n",
       "      <td>0.115553</td>\n",
       "      <td>0.021488</td>\n",
       "      <td>1.004327</td>\n",
       "      <td>27.502646</td>\n",
       "      <td>0.00545</td>\n",
       "      <td>0</td>\n",
       "      <td>-404.308594</td>\n",
       "      <td>...</td>\n",
       "      <td>0</td>\n",
       "      <td>0</td>\n",
       "      <td>0</td>\n",
       "      <td>0</td>\n",
       "      <td>3</td>\n",
       "      <td>0</td>\n",
       "      <td>0</td>\n",
       "      <td>21</td>\n",
       "      <td>1</td>\n",
       "      <td>English</td>\n",
       "    </tr>\n",
       "    <tr>\n",
       "      <th>4</th>\n",
       "      <td>1</td>\n",
       "      <td>0.168468</td>\n",
       "      <td>5243.018296</td>\n",
       "      <td>0.115553</td>\n",
       "      <td>0.021488</td>\n",
       "      <td>1.004327</td>\n",
       "      <td>27.502646</td>\n",
       "      <td>0.00545</td>\n",
       "      <td>0</td>\n",
       "      <td>-404.308594</td>\n",
       "      <td>...</td>\n",
       "      <td>0</td>\n",
       "      <td>0</td>\n",
       "      <td>0</td>\n",
       "      <td>1</td>\n",
       "      <td>3</td>\n",
       "      <td>0</td>\n",
       "      <td>0</td>\n",
       "      <td>60</td>\n",
       "      <td>1</td>\n",
       "      <td>English</td>\n",
       "    </tr>\n",
       "  </tbody>\n",
       "</table>\n",
       "<p>5 rows × 46 columns</p>\n",
       "</div>"
      ],
      "text/plain": [
       "   track id  chroma_sftf      rolloff  zero_crossing_rate      rmse      flux  \\\n",
       "0         1     0.168468  5243.018296            0.115553  0.021488  1.004327   \n",
       "1         1     0.168468  5243.018296            0.115553  0.021488  1.004327   \n",
       "2         1     0.168468  5243.018296            0.115553  0.021488  1.004327   \n",
       "3         1     0.168468  5243.018296            0.115553  0.021488  1.004327   \n",
       "4         1     0.168468  5243.018296            0.115553  0.021488  1.004327   \n",
       "\n",
       "    contrast  flatness  sample_silence      mfcc_0  ...   power  \\\n",
       "0  27.502646   0.00545               0 -404.308594  ...       0   \n",
       "1  27.502646   0.00545               0 -404.308594  ...       0   \n",
       "2  27.502646   0.00545               0 -404.308594  ...       0   \n",
       "3  27.502646   0.00545               0 -404.308594  ...       0   \n",
       "4  27.502646   0.00545               0 -404.308594  ...       0   \n",
       "\n",
       "    joyful_activation   tension   sadness   mood   liked   disliked   age  \\\n",
       "0                   0         0         1      3       0          0    30   \n",
       "1                   0         0         1      1       1          0    33   \n",
       "2                   0         0         1      4       0          1    51   \n",
       "3                   0         0         0      3       0          0    21   \n",
       "4                   0         0         1      3       0          0    60   \n",
       "\n",
       "    gender   mother tongue  \n",
       "0        0         English  \n",
       "1        0         Russian  \n",
       "2        0         English  \n",
       "3        1         English  \n",
       "4        1         English  \n",
       "\n",
       "[5 rows x 46 columns]"
      ]
     },
     "execution_count": 5,
     "metadata": {},
     "output_type": "execute_result"
    }
   ],
   "source": [
    "# remove unlabelled data to avoid overfitting \n",
    "train['sum'] = train[LABELS].sum(1)\n",
    "train = train[train['sum'] > 0]\n",
    "train = train.drop('sum', 1)\n",
    "train.head()"
   ]
  },
  {
   "cell_type": "code",
   "execution_count": 6,
   "metadata": {
    "colab": {
     "base_uri": "https://localhost:8080/",
     "height": 232
    },
    "id": "iDJlkxwcrbdm",
    "outputId": "79f15a26-6b09-4595-c7d3-25dac1c04d78"
   },
   "outputs": [
    {
     "data": {
      "text/html": [
       "<div>\n",
       "<style scoped>\n",
       "    .dataframe tbody tr th:only-of-type {\n",
       "        vertical-align: middle;\n",
       "    }\n",
       "\n",
       "    .dataframe tbody tr th {\n",
       "        vertical-align: top;\n",
       "    }\n",
       "\n",
       "    .dataframe thead th {\n",
       "        text-align: right;\n",
       "    }\n",
       "</style>\n",
       "<table border=\"1\" class=\"dataframe\">\n",
       "  <thead>\n",
       "    <tr style=\"text-align: right;\">\n",
       "      <th></th>\n",
       "      <th>track id</th>\n",
       "      <th>chroma_sftf</th>\n",
       "      <th>rolloff</th>\n",
       "      <th>zero_crossing_rate</th>\n",
       "      <th>rmse</th>\n",
       "      <th>flux</th>\n",
       "      <th>contrast</th>\n",
       "      <th>flatness</th>\n",
       "      <th>mfcc_0</th>\n",
       "      <th>mfcc_1</th>\n",
       "      <th>...</th>\n",
       "      <th>tempo</th>\n",
       "      <th>tenderness</th>\n",
       "      <th>calmness</th>\n",
       "      <th>power</th>\n",
       "      <th>joyful_activation</th>\n",
       "      <th>tension</th>\n",
       "      <th>sadness</th>\n",
       "      <th>mood</th>\n",
       "      <th>age</th>\n",
       "      <th>gender</th>\n",
       "    </tr>\n",
       "  </thead>\n",
       "  <tbody>\n",
       "    <tr>\n",
       "      <th>0</th>\n",
       "      <td>1</td>\n",
       "      <td>0.168468</td>\n",
       "      <td>5243.018296</td>\n",
       "      <td>0.115553</td>\n",
       "      <td>0.021488</td>\n",
       "      <td>1.004327</td>\n",
       "      <td>27.502646</td>\n",
       "      <td>0.00545</td>\n",
       "      <td>-404.308594</td>\n",
       "      <td>25.564194</td>\n",
       "      <td>...</td>\n",
       "      <td>129.199219</td>\n",
       "      <td>0</td>\n",
       "      <td>0</td>\n",
       "      <td>0</td>\n",
       "      <td>0</td>\n",
       "      <td>0</td>\n",
       "      <td>1</td>\n",
       "      <td>3</td>\n",
       "      <td>30</td>\n",
       "      <td>0</td>\n",
       "    </tr>\n",
       "    <tr>\n",
       "      <th>1</th>\n",
       "      <td>1</td>\n",
       "      <td>0.168468</td>\n",
       "      <td>5243.018296</td>\n",
       "      <td>0.115553</td>\n",
       "      <td>0.021488</td>\n",
       "      <td>1.004327</td>\n",
       "      <td>27.502646</td>\n",
       "      <td>0.00545</td>\n",
       "      <td>-404.308594</td>\n",
       "      <td>25.564194</td>\n",
       "      <td>...</td>\n",
       "      <td>129.199219</td>\n",
       "      <td>1</td>\n",
       "      <td>0</td>\n",
       "      <td>0</td>\n",
       "      <td>0</td>\n",
       "      <td>0</td>\n",
       "      <td>1</td>\n",
       "      <td>1</td>\n",
       "      <td>33</td>\n",
       "      <td>0</td>\n",
       "    </tr>\n",
       "    <tr>\n",
       "      <th>2</th>\n",
       "      <td>1</td>\n",
       "      <td>0.168468</td>\n",
       "      <td>5243.018296</td>\n",
       "      <td>0.115553</td>\n",
       "      <td>0.021488</td>\n",
       "      <td>1.004327</td>\n",
       "      <td>27.502646</td>\n",
       "      <td>0.00545</td>\n",
       "      <td>-404.308594</td>\n",
       "      <td>25.564194</td>\n",
       "      <td>...</td>\n",
       "      <td>129.199219</td>\n",
       "      <td>0</td>\n",
       "      <td>1</td>\n",
       "      <td>0</td>\n",
       "      <td>0</td>\n",
       "      <td>0</td>\n",
       "      <td>1</td>\n",
       "      <td>4</td>\n",
       "      <td>51</td>\n",
       "      <td>0</td>\n",
       "    </tr>\n",
       "    <tr>\n",
       "      <th>3</th>\n",
       "      <td>1</td>\n",
       "      <td>0.168468</td>\n",
       "      <td>5243.018296</td>\n",
       "      <td>0.115553</td>\n",
       "      <td>0.021488</td>\n",
       "      <td>1.004327</td>\n",
       "      <td>27.502646</td>\n",
       "      <td>0.00545</td>\n",
       "      <td>-404.308594</td>\n",
       "      <td>25.564194</td>\n",
       "      <td>...</td>\n",
       "      <td>129.199219</td>\n",
       "      <td>0</td>\n",
       "      <td>1</td>\n",
       "      <td>0</td>\n",
       "      <td>0</td>\n",
       "      <td>0</td>\n",
       "      <td>0</td>\n",
       "      <td>3</td>\n",
       "      <td>21</td>\n",
       "      <td>1</td>\n",
       "    </tr>\n",
       "    <tr>\n",
       "      <th>4</th>\n",
       "      <td>1</td>\n",
       "      <td>0.168468</td>\n",
       "      <td>5243.018296</td>\n",
       "      <td>0.115553</td>\n",
       "      <td>0.021488</td>\n",
       "      <td>1.004327</td>\n",
       "      <td>27.502646</td>\n",
       "      <td>0.00545</td>\n",
       "      <td>-404.308594</td>\n",
       "      <td>25.564194</td>\n",
       "      <td>...</td>\n",
       "      <td>129.199219</td>\n",
       "      <td>0</td>\n",
       "      <td>0</td>\n",
       "      <td>0</td>\n",
       "      <td>0</td>\n",
       "      <td>0</td>\n",
       "      <td>1</td>\n",
       "      <td>3</td>\n",
       "      <td>60</td>\n",
       "      <td>1</td>\n",
       "    </tr>\n",
       "  </tbody>\n",
       "</table>\n",
       "<p>5 rows × 38 columns</p>\n",
       "</div>"
      ],
      "text/plain": [
       "   track id  chroma_sftf      rolloff  zero_crossing_rate      rmse      flux  \\\n",
       "0         1     0.168468  5243.018296            0.115553  0.021488  1.004327   \n",
       "1         1     0.168468  5243.018296            0.115553  0.021488  1.004327   \n",
       "2         1     0.168468  5243.018296            0.115553  0.021488  1.004327   \n",
       "3         1     0.168468  5243.018296            0.115553  0.021488  1.004327   \n",
       "4         1     0.168468  5243.018296            0.115553  0.021488  1.004327   \n",
       "\n",
       "    contrast  flatness      mfcc_0     mfcc_1  ...       tempo   tenderness  \\\n",
       "0  27.502646   0.00545 -404.308594  25.564194  ...  129.199219            0   \n",
       "1  27.502646   0.00545 -404.308594  25.564194  ...  129.199219            1   \n",
       "2  27.502646   0.00545 -404.308594  25.564194  ...  129.199219            0   \n",
       "3  27.502646   0.00545 -404.308594  25.564194  ...  129.199219            0   \n",
       "4  27.502646   0.00545 -404.308594  25.564194  ...  129.199219            0   \n",
       "\n",
       "    calmness   power   joyful_activation   tension   sadness   mood   age  \\\n",
       "0          0       0                   0         0         1      3    30   \n",
       "1          0       0                   0         0         1      1    33   \n",
       "2          1       0                   0         0         1      4    51   \n",
       "3          1       0                   0         0         0      3    21   \n",
       "4          0       0                   0         0         1      3    60   \n",
       "\n",
       "    gender  \n",
       "0        0  \n",
       "1        0  \n",
       "2        0  \n",
       "3        1  \n",
       "4        1  \n",
       "\n",
       "[5 rows x 38 columns]"
      ]
     },
     "execution_count": 6,
     "metadata": {},
     "output_type": "execute_result"
    }
   ],
   "source": [
    "# remove useless features\n",
    "train.drop(USELESS,axis=1,inplace=True)\n",
    "train.head()"
   ]
  },
  {
   "cell_type": "code",
   "execution_count": 7,
   "metadata": {},
   "outputs": [],
   "source": [
    "# drop duplicated data to avoid overfitting\n",
    "train = train.drop_duplicates()"
   ]
  },
  {
   "cell_type": "code",
   "execution_count": null,
   "metadata": {
    "id": "RTDQoHQmrrRA"
   },
   "outputs": [],
   "source": [
    "# get train and target \n",
    "y_train = train[LABELS]\n",
    "\n",
    "X_train = train.drop(columns=LABELS)"
   ]
  },
  {
   "cell_type": "markdown",
   "metadata": {},
   "source": [
    "# Outlier treatment "
   ]
  },
  {
   "cell_type": "code",
   "execution_count": null,
   "metadata": {
    "id": "Ii8xllVmVg37"
   },
   "outputs": [],
   "source": [
    "# predict audio features outliers  \n",
    "def predict_audio_feat_outlier(db):\n",
    "    \"\"\"\n",
    "    This function globally detects outliers  \n",
    "    \n",
    "    Parameters:\n",
    "        db (DataFrame): the dataframe containing the values to be cleaned\n",
    "    Returns:\n",
    "        db_tr (DataFrame): the  dataframe with detected outliers\n",
    "    \"\"\"\n",
    "    db_tr = db.copy() \n",
    "    clf =  IForest() \n",
    "    clf.fit(db_tr.drop(columns=['track id',' mood',' age']))\n",
    "    db_tr['is_outlier'] = clf.predict(db_tr.drop(columns=['track id',' mood',' age']))\n",
    "    \n",
    "    return db_tr"
   ]
  },
  {
   "cell_type": "code",
   "execution_count": null,
   "metadata": {},
   "outputs": [],
   "source": [
    "#treat audio features outliers\n",
    "def treat_audio_feat_outlier(db):\n",
    "    \"\"\"\n",
    "    This function globally treats outliers  \n",
    "    \n",
    "    Parameters:\n",
    "        db (DataFrame): the dataframe containing the outliers to be cleaned\n",
    "    Returns:\n",
    "        new_db (DataFrame): the  dataframe with cleaned outliers\n",
    "    \"\"\"\n",
    "    features = db.columns\n",
    "    features = features.drop(['track id',' mood',' gender', ' age','is_outlier'])\n",
    "    mask = db['is_outlier'] == 1\n",
    "    \n",
    "    for f in features: \n",
    "        db.loc[mask, f] = db[f].median()\n",
    "    return db.drop(columns=['is_outlier'])"
   ]
  },
  {
   "cell_type": "code",
   "execution_count": null,
   "metadata": {
    "id": "R5SEcYtNYkiI"
   },
   "outputs": [],
   "source": [
    "# predict and treat outliers for a given feature \n",
    "def predict_and_treat_outlier(feat,db):\n",
    "    \"\"\"\n",
    "    This function treats outliers for a given feature \n",
    "    \n",
    "    Parameters:\n",
    "        db (DataFrame): the dataframe containing the outliers to be cleaned\n",
    "        feat (string): the given feature \n",
    "    Returns:\n",
    "        db (DataFrame): the  dataframe with cleaned outliers\n",
    "    \"\"\"\n",
    "  X =  db[[feat]]\n",
    "  clf = IForest() \n",
    "  clf.fit(X)\n",
    "  db['is_outlier'] = clf.predict(X)\n",
    "  db_cleaned = db.copy()\n",
    "  mask = db_cleaned['is_outlier'] == 1\n",
    "  db_cleaned.loc[mask, feat] = db_cleaned[feat].median()\n",
    "  return db_cleaned.drop(columns=['is_outlier'])"
   ]
  },
  {
   "cell_type": "code",
   "execution_count": null,
   "metadata": {
    "colab": {
     "base_uri": "https://localhost:8080/",
     "height": 232
    },
    "id": "eFGMKvLQWFyq",
    "outputId": "bd8cc06e-091a-46bd-bedf-1e58a842ed57"
   },
   "outputs": [],
   "source": [
    "from pyod.models.iforest import IForest \n",
    "from pyod.models.knn import KNN \n",
    "\n",
    "# predict and treat age outliers \n",
    "X_train_age = predict_and_treat_outlier(' age',X_train) # performed 74% (roc_auc_score = 74%)\n",
    "X_train_age.head()\n",
    "# predict audio features outliers\n",
    "# X_train = predict_audio_feat_outlier(X_train)\n",
    "# treat audio features outliers\n",
    "#X_train = treat_audio_feat_outlier(X_train)\n"
   ]
  },
  {
   "cell_type": "code",
   "execution_count": null,
   "metadata": {},
   "outputs": [],
   "source": [
    "X_train_age.columns"
   ]
  },
  {
   "cell_type": "code",
   "execution_count": null,
   "metadata": {},
   "outputs": [],
   "source": [
    "X_train.shape"
   ]
  },
  {
   "cell_type": "markdown",
   "metadata": {},
   "source": [
    "# Model training "
   ]
  },
  {
   "cell_type": "markdown",
   "metadata": {},
   "source": [
    "## Set the batch size and epochs for the DNN and the LSTM model"
   ]
  },
  {
   "cell_type": "code",
   "execution_count": null,
   "metadata": {
    "id": "Rt9u_XTz3RKi"
   },
   "outputs": [],
   "source": [
    "# batch size and epochs for the DNN and the LSTM model\n",
    "batch_size=128\n",
    "epochs = 5\n",
    "X_train = np.expand_dims(X_train.values, axis=-1)\n"
   ]
  },
  {
   "cell_type": "markdown",
   "metadata": {},
   "source": [
    "## Import all the useful module for the training "
   ]
  },
  {
   "cell_type": "code",
   "execution_count": null,
   "metadata": {},
   "outputs": [],
   "source": [
    "from keras import models\n",
    "from keras import layers\n",
    "from keras.preprocessing.text import Tokenizer\n",
    "from keras.preprocessing.sequence import pad_sequences\n",
    "from keras.layers import Dense, Input, LSTM, Embedding, Dropout, Activation,Conv1D,Flatten\n",
    "from keras.layers import Bidirectional, GlobalMaxPool1D\n",
    "from keras.models import Model\n",
    "from keras import initializers, regularizers, constraints, optimizers, layers\n",
    "from keras.optimizers import Adam\n",
    "from sklearn.model_selection import train_test_split\n"
   ]
  },
  {
   "cell_type": "markdown",
   "metadata": {},
   "source": [
    "## DNN model "
   ]
  },
  {
   "cell_type": "markdown",
   "metadata": {},
   "source": [
    "The DNN model scored 77% on the mfcc features, and  77% with the new features,  no improvement has observed \n",
    "After  outliers treatment, the model scored 75% \n",
    "Conclusion : the DNN model is not stable and the results are not reproducible "
   ]
  },
  {
   "cell_type": "code",
   "execution_count": null,
   "metadata": {},
   "outputs": [],
   "source": [
    "\n",
    "inp = Input(shape=(35,))\n",
    "x = GlobalMaxPool1D()(inp)\n",
    "x = Dense(256, activation='relu')(inp)\n",
    "x = Dropout(0.5)(x)\n",
    "x = Dense(256, activation='relu')(x)\n",
    "x = Dropout(0.5)(x)\n",
    "x = Dense(9, activation='softmax')(x)\n",
    "model = Model(inputs=inp, outputs=x)"
   ]
  },
  {
   "cell_type": "markdown",
   "metadata": {},
   "source": [
    "## LSTM model "
   ]
  },
  {
   "cell_type": "markdown",
   "metadata": {},
   "source": [
    "\n",
    "The LSTM model scored 77% with the mfcc features, and 77% with the new features, no improvement has been observed. \n",
    "After  outliers treatment, the model's scored remained the same, \n",
    "thus, there is no improvement even after the training was run for 10 epochs"
   ]
  },
  {
   "cell_type": "code",
   "execution_count": null,
   "metadata": {},
   "outputs": [],
   "source": [
    "inp = Input(shape=(32,1))\n",
    "x = LSTM(50, return_sequences=True)(inp)\n",
    "x = GlobalMaxPool1D()(x)\n",
    "x = Dropout(0.1)(x)\n",
    "x = Dense(50, activation=\"relu\")(x)\n",
    "x = Dropout(0.1)(x)\n",
    "x = Dense(9, activation=\"softmax\")(x)\n",
    "model = Model(inputs=inp, outputs=x)"
   ]
  },
  {
   "cell_type": "code",
   "execution_count": null,
   "metadata": {
    "id": "S92TgZ-jswx2"
   },
   "outputs": [],
   "source": [
    "model.compile(optimizer='adam',\n",
    "              loss='sparse_categorical_crossentropy',\n",
    "              metrics=['accuracy'])"
   ]
  },
  {
   "cell_type": "code",
   "execution_count": null,
   "metadata": {
    "id": "SfZJJ83qh9GS"
   },
   "outputs": [],
   "source": [
    "model.summary()"
   ]
  },
  {
   "cell_type": "code",
   "execution_count": null,
   "metadata": {
    "colab": {
     "base_uri": "https://localhost:8080/"
    },
    "id": "vYc6oIzEs009",
    "outputId": "4ba366e6-4bb0-40e5-86c3-129abfb6e486"
   },
   "outputs": [],
   "source": [
    "print(y_train.shape)\n",
    "history = model.fit(X_train,y_train,epochs=epochs,batch_size=batch_size,validation_split=0.2)"
   ]
  },
  {
   "cell_type": "code",
   "execution_count": null,
   "metadata": {
    "id": "ZYPkUXSM3ly9"
   },
   "outputs": [],
   "source": [
    "import matplotlib.pyplot as plt\n",
    "plt.style.use('ggplot')\n",
    "\n",
    "def plot_history(history):\n",
    "    \"\"\" This functions plot the model's loss and  accuracy on graphs \n",
    "        \n",
    "        parameters:\n",
    "            history (model) : the model to evaluate\n",
    "        returns:\n",
    "            - \n",
    "    \"\"\"\n",
    "    acc = history.history['accuracy']\n",
    "    val_acc = history.history['val_accuracy']\n",
    "    loss = history.history['loss']\n",
    "    val_loss = history.history['val_loss']\n",
    "    x = range(1, len(acc) + 1)\n",
    "\n",
    "    plt.figure(figsize=(12, 5))\n",
    "    plt.subplot(1, 2, 1)\n",
    "    plt.plot(x, acc, 'b', label='Training acc')\n",
    "    plt.plot(x, val_acc, 'r', label='Validation acc')\n",
    "    plt.title('Training and validation accuracy')\n",
    "    plt.legend()\n",
    "    plt.subplot(1, 2, 2)\n",
    "    plt.plot(x, loss, 'b', label='Training loss')\n",
    "    plt.plot(x, val_loss, 'r', label='Validation loss')\n",
    "    plt.title('Training and validation loss')\n",
    "    plt.legend()"
   ]
  },
  {
   "cell_type": "code",
   "execution_count": null,
   "metadata": {
    "colab": {
     "base_uri": "https://localhost:8080/",
     "height": 337
    },
    "id": "zHJ-RuUN30Iy",
    "outputId": "196a5075-63d0-4d04-d7a5-8ed0b0670160"
   },
   "outputs": [],
   "source": [
    "plot_history(history)"
   ]
  },
  {
   "cell_type": "markdown",
   "metadata": {},
   "source": [
    "## LGBM model "
   ]
  },
  {
   "cell_type": "code",
   "execution_count": null,
   "metadata": {
    "colab": {
     "base_uri": "https://localhost:8080/"
    },
    "id": "MdexQvADxibP",
    "outputId": "be4553e2-15f9-4c39-f032-359e59253a4c"
   },
   "outputs": [],
   "source": [
    "# Model Validation \n",
    "epochs = 5\n",
    "\n",
    "# KFold Validation\n",
    "kf = KFold(n_splits=epochs, shuffle=True, random_state=1997)  # 30, n_split 3\n",
    "y_oof = np.zeros([X_train_age.shape[0], len(LABELS)])\n",
    "i = 0\n",
    "\n",
    "# Data normalization \n",
    "SCALE = True\n",
    "if SCALE:  \n",
    "    scaler = MinMaxScaler()\n",
    "    X_train_age[X_train_age.columns.drop(['track id'])] = scaler.fit_transform(\n",
    "        X_train_age.drop(columns=['track id']))\n",
    "\n",
    "# Model Validation\n",
    "for tr_idx, val_idx in kf.split(X_train_age, y_train):\n",
    "    X_tr, X_vl = X_train_age.iloc[tr_idx, :], X_train_age.iloc[val_idx, :]\n",
    "    y_tr, y_vl = y_train.iloc[tr_idx, :], y_train.iloc[val_idx, :]\n",
    "    X_tr = X_tr.drop(columns=['track id'] )\n",
    "    X_vl = X_vl.drop(columns=['track id'] ) \n",
    "    model =  MultiOutputClassifier(LGBMClassifier(n_estimators=10, random_state=47)) \n",
    "    model.fit(X_tr, y_tr) \n",
    "    y_pred = np.zeros((X_vl.shape[0],len(LABELS)))\n",
    "    for i, j in enumerate(model.predict_proba(X_vl)):\n",
    "        y_pred[:,i] = j[:, 1]\n",
    "    y_oof[val_idx, :] = y_pred\n",
    "    i += 1\n",
    "    acc = roc_auc_score(y_vl, y_pred, multi_class='ovr')\n",
    "    print(f\"Fold #{i} AUC : {round(acc, 2)}\")\n",
    "    \n",
    "metric = roc_auc_score(y_train, y_oof, multi_class='ovr')\n",
    "print(f\"Full AUC  : {round(metric, 2)}\")"
   ]
  },
  {
   "cell_type": "markdown",
   "metadata": {},
   "source": [
    "## Model interpretation:\n",
    "1- With the initial features : \n",
    "LGBM model scored 79.4% \n",
    "2- After adding the new features :\n",
    "LGBM scored 79.55%\n",
    "\n",
    "3- After both audio and age features outliers treatment:\n",
    "LGBM scored 79.36% ==> the model's performance slightly decreased\n",
    "\n",
    "4- After only age feature treatment (Indeed, the 'age' feature is the most important feature of the model:\n",
    "LGBM scored 79.57% \n",
    "\n",
    "## Observation after testing the model: \n",
    "The model is overfitting especially with 3 of the emotion features : amazement, solemnity and nostalgia. \n",
    "Thus, we decided to work on 6 of the emotions and remove the 3 others. \n",
    "Performance: LGBM scored 74%"
   ]
  },
  {
   "cell_type": "markdown",
   "metadata": {},
   "source": [
    "# Save model"
   ]
  },
  {
   "cell_type": "code",
   "execution_count": null,
   "metadata": {},
   "outputs": [],
   "source": [
    "from pure_sklearn.map import convert_estimator\n",
    "\n",
    "filename = f'../model_saved/music_emotion_classifier_model.sav'\n",
    "clf_pure_predict = convert_estimator(model)\n",
    "pickle.dump(clf_pure_predict, open(filename, 'wb'))"
   ]
  },
  {
   "cell_type": "markdown",
   "metadata": {},
   "source": [
    "# Test the model on  existing test data"
   ]
  },
  {
   "cell_type": "code",
   "execution_count": null,
   "metadata": {},
   "outputs": [],
   "source": [
    "def get_features(y, sr, id):\n",
    "     '''\n",
    "        This function extracts audio features from an audio file.\n",
    "\n",
    "                Parameters:\n",
    "                        id (string): the audio track id \n",
    "                        y \n",
    "                        sr \n",
    "\n",
    "                Returns:\n",
    "                        audio_features (DataFrame): the extracted audio features\n",
    "        '''\n",
    "    # Features to concatenate in the final dictionary\n",
    "    features = {'chroma_sftf': None, 'rolloff': None, 'zero_crossing_rate': None, 'rmse': None,\n",
    "                'flux': None, 'contrast': None, 'flatness': None}\n",
    "    print(id)\n",
    "\n",
    "    # Using librosa to calculate the features\n",
    "    features['chroma_sftf'] = np.mean(librosa.feature.chroma_stft(y=y, sr=sr))\n",
    "    features['rolloff'] = np.mean(librosa.feature.spectral_rolloff(y, sr=sr))\n",
    "    features['zero_crossing_rate'] = np.mean(librosa.feature.zero_crossing_rate(y))\n",
    "    features['rmse'] = np.mean(librosa.feature.rms(y))\n",
    "    features['flux'] = np.mean(librosa.onset.onset_strength(y=y, sr=sr))\n",
    "    features['contrast'] = np.mean(librosa.feature.spectral_contrast(y, sr=sr))\n",
    "    features['flatness'] = np.mean(librosa.feature.spectral_flatness(y))\n",
    "    \n",
    "    # MFCC treatment\n",
    "    mfcc = librosa.feature.mfcc(y=y, sr=sr, n_mfcc=20)\n",
    "    for idx, v_mfcc in enumerate(mfcc):\n",
    "        features['mfcc_{}'.format(idx)] = np.mean(v_mfcc)\n",
    "\n",
    "    features['tempo'] = librosa.beat.tempo(y, sr=sr)[0]\n",
    "    features['track_id'] = id\n",
    "    \n",
    "    return features"
   ]
  },
  {
   "cell_type": "code",
   "execution_count": null,
   "metadata": {},
   "outputs": [],
   "source": [
    "def read_process_songs(audiofile, debug = True): \n",
    "    \"\"\"\n",
    "        This function reads an audio file.\n",
    "\n",
    "                Parameters:\n",
    "                        audiofile (string): the audio file path\n",
    "\n",
    "                Returns:\n",
    "                        audio_features (DataFrame): the extracted audio features\n",
    "        \"\"\"\n",
    "    # Empty array of dicts with the processed features from all files\n",
    "    arr_features = []\n",
    "    \n",
    "    # Read the audio file\n",
    "    signal, sr = librosa.load(audiofile,duration=30)\n",
    "    \n",
    "    #pre-emphasis before extracting features\n",
    "    signal_filt = librosa.effects.preemphasis(signal)\n",
    "    \n",
    "    track_id = audiofile.replace(\".wav\",\"\")\n",
    "\n",
    "    # Append the result to the data structure\n",
    "    features = get_features(signal_filt,sr,track_id)\n",
    "    arr_features.append(features)\n",
    "         \n",
    "    return arr_features"
   ]
  },
  {
   "cell_type": "code",
   "execution_count": null,
   "metadata": {},
   "outputs": [],
   "source": [
    "from pydub import AudioSegment\n",
    "\n",
    "def convert_to_wav(src,dst):\n",
    "     '''\n",
    "        This function converts any mp3 file into wav format\n",
    "                Parameters:\n",
    "                        src (string): audio file source (path)\n",
    "\n",
    "                Returns:\n",
    "                        dst (string): new source of the converted audio file\n",
    "        '''\n",
    "    # convert wav to mp3                                                            \n",
    "    sound = AudioSegment.from_mp3(src)\n",
    "    sound.export(dst, format=\"wav\")\n",
    "    return dst"
   ]
  },
  {
   "cell_type": "code",
   "execution_count": null,
   "metadata": {},
   "outputs": [],
   "source": [
    "audio_file = f'C:/Music/Retro/Aerosmith - I Don\\'t Want to Miss a Thing (Official Music Video).wav'"
   ]
  },
  {
   "cell_type": "code",
   "execution_count": null,
   "metadata": {},
   "outputs": [],
   "source": [
    "print(audio_file)"
   ]
  },
  {
   "cell_type": "code",
   "execution_count": null,
   "metadata": {},
   "outputs": [],
   "source": [
    "test_data = read_process_songs(audio_file,debug=False)"
   ]
  },
  {
   "cell_type": "code",
   "execution_count": null,
   "metadata": {},
   "outputs": [],
   "source": [
    "df_test = pd.DataFrame(test_data)\n",
    "df_test.columns"
   ]
  },
  {
   "cell_type": "code",
   "execution_count": null,
   "metadata": {},
   "outputs": [],
   "source": [
    "df_test[' mood'] = 3\n",
    "df_test[' gender'] = 1\n",
    "df_test[' age'] = 23\n",
    "df_test.head()"
   ]
  },
  {
   "cell_type": "code",
   "execution_count": null,
   "metadata": {},
   "outputs": [],
   "source": [
    "df_test.columns"
   ]
  },
  {
   "cell_type": "code",
   "execution_count": null,
   "metadata": {},
   "outputs": [],
   "source": [
    "emotion_clf = pickle.load(open(filename, 'rb'))\n",
    "def predict_proba(test, model):\n",
    "     '''\n",
    "        This function predicts the music genre\n",
    "\n",
    "                Parameters:\n",
    "                        test (DataFrame): audio features\n",
    "                        model (model): the music emotion identifier\n",
    "\n",
    "                Returns:\n",
    "                        y_pred (DataFrame): probability of music emotions\n",
    "        '''\n",
    "    y_pred = np.zeros((test.shape[0],len(LABELS)))\n",
    "    print(test.columns)\n",
    "    df_test = test.drop(columns=['track_id'])\n",
    "    for i, j in enumerate(model.predict_proba(df_test)):\n",
    "        y_pred[:,i] = j[:, 1]\n",
    "    y_pred = pd.DataFrame(y_pred)\n",
    "    y_pred.columns = LABELS\n",
    "    return y_pred\n",
    "pred = predict_proba(df_test, emotion_clf)\n",
    "print(pred)"
   ]
  },
  {
   "cell_type": "code",
   "execution_count": null,
   "metadata": {},
   "outputs": [],
   "source": [
    "print(LABELS[np.argmax(pred)])"
   ]
  }
 ],
 "metadata": {
  "colab": {
   "collapsed_sections": [],
   "name": "Music_Emotion_Classifier.ipynb",
   "provenance": []
  },
  "kernelspec": {
   "display_name": "Python 3",
   "language": "python",
   "name": "python3"
  },
  "language_info": {
   "codemirror_mode": {
    "name": "ipython",
    "version": 3
   },
   "file_extension": ".py",
   "mimetype": "text/x-python",
   "name": "python",
   "nbconvert_exporter": "python",
   "pygments_lexer": "ipython3",
   "version": "3.7.3"
  }
 },
 "nbformat": 4,
 "nbformat_minor": 1
}
