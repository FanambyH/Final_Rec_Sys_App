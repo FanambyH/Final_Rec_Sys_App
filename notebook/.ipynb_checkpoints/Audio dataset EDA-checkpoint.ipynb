{
 "cells": [
  {
   "cell_type": "code",
   "execution_count": 1,
   "metadata": {},
   "outputs": [],
   "source": [
    "import pandas as pd\n",
    "import numpy as np\n",
    "\n",
    "from pandas_profiling import ProfileReport"
   ]
  },
  {
   "cell_type": "markdown",
   "metadata": {},
   "source": [
    "# Read  data"
   ]
  },
  {
   "cell_type": "code",
   "execution_count": 2,
   "metadata": {},
   "outputs": [
    {
     "data": {
      "text/html": [
       "<div>\n",
       "<style scoped>\n",
       "    .dataframe tbody tr th:only-of-type {\n",
       "        vertical-align: middle;\n",
       "    }\n",
       "\n",
       "    .dataframe tbody tr th {\n",
       "        vertical-align: top;\n",
       "    }\n",
       "\n",
       "    .dataframe thead th {\n",
       "        text-align: right;\n",
       "    }\n",
       "</style>\n",
       "<table border=\"1\" class=\"dataframe\">\n",
       "  <thead>\n",
       "    <tr style=\"text-align: right;\">\n",
       "      <th></th>\n",
       "      <th>track id</th>\n",
       "      <th>chroma_stft</th>\n",
       "      <th>rmse</th>\n",
       "      <th>spectral_centroid</th>\n",
       "      <th>spectral_bandwidth</th>\n",
       "      <th>rolloff</th>\n",
       "      <th>zero_crossing_rate</th>\n",
       "      <th>mfcc1</th>\n",
       "      <th>mfcc2</th>\n",
       "      <th>mfcc3</th>\n",
       "      <th>...</th>\n",
       "      <th>power</th>\n",
       "      <th>joyful_activation</th>\n",
       "      <th>tension</th>\n",
       "      <th>sadness</th>\n",
       "      <th>mood</th>\n",
       "      <th>liked</th>\n",
       "      <th>disliked</th>\n",
       "      <th>age</th>\n",
       "      <th>gender</th>\n",
       "      <th>mother tongue</th>\n",
       "    </tr>\n",
       "  </thead>\n",
       "  <tbody>\n",
       "    <tr>\n",
       "      <th>0</th>\n",
       "      <td>1</td>\n",
       "      <td>0.168761</td>\n",
       "      <td>0.084875</td>\n",
       "      <td>1250.061078</td>\n",
       "      <td>1383.643005</td>\n",
       "      <td>1891.738561</td>\n",
       "      <td>0.074272</td>\n",
       "      <td>-320.786858</td>\n",
       "      <td>109.852414</td>\n",
       "      <td>-13.965514</td>\n",
       "      <td>...</td>\n",
       "      <td>0</td>\n",
       "      <td>0</td>\n",
       "      <td>0</td>\n",
       "      <td>1</td>\n",
       "      <td>3</td>\n",
       "      <td>0</td>\n",
       "      <td>0</td>\n",
       "      <td>30</td>\n",
       "      <td>0</td>\n",
       "      <td>English</td>\n",
       "    </tr>\n",
       "    <tr>\n",
       "      <th>1</th>\n",
       "      <td>1</td>\n",
       "      <td>0.168761</td>\n",
       "      <td>0.084875</td>\n",
       "      <td>1250.061078</td>\n",
       "      <td>1383.643005</td>\n",
       "      <td>1891.738561</td>\n",
       "      <td>0.074272</td>\n",
       "      <td>-320.786858</td>\n",
       "      <td>109.852414</td>\n",
       "      <td>-13.965514</td>\n",
       "      <td>...</td>\n",
       "      <td>0</td>\n",
       "      <td>0</td>\n",
       "      <td>0</td>\n",
       "      <td>1</td>\n",
       "      <td>1</td>\n",
       "      <td>1</td>\n",
       "      <td>0</td>\n",
       "      <td>33</td>\n",
       "      <td>0</td>\n",
       "      <td>Russian</td>\n",
       "    </tr>\n",
       "    <tr>\n",
       "      <th>2</th>\n",
       "      <td>1</td>\n",
       "      <td>0.168761</td>\n",
       "      <td>0.084875</td>\n",
       "      <td>1250.061078</td>\n",
       "      <td>1383.643005</td>\n",
       "      <td>1891.738561</td>\n",
       "      <td>0.074272</td>\n",
       "      <td>-320.786858</td>\n",
       "      <td>109.852414</td>\n",
       "      <td>-13.965514</td>\n",
       "      <td>...</td>\n",
       "      <td>0</td>\n",
       "      <td>0</td>\n",
       "      <td>0</td>\n",
       "      <td>1</td>\n",
       "      <td>4</td>\n",
       "      <td>0</td>\n",
       "      <td>1</td>\n",
       "      <td>51</td>\n",
       "      <td>0</td>\n",
       "      <td>English</td>\n",
       "    </tr>\n",
       "    <tr>\n",
       "      <th>3</th>\n",
       "      <td>1</td>\n",
       "      <td>0.168761</td>\n",
       "      <td>0.084875</td>\n",
       "      <td>1250.061078</td>\n",
       "      <td>1383.643005</td>\n",
       "      <td>1891.738561</td>\n",
       "      <td>0.074272</td>\n",
       "      <td>-320.786858</td>\n",
       "      <td>109.852414</td>\n",
       "      <td>-13.965514</td>\n",
       "      <td>...</td>\n",
       "      <td>0</td>\n",
       "      <td>0</td>\n",
       "      <td>0</td>\n",
       "      <td>0</td>\n",
       "      <td>3</td>\n",
       "      <td>0</td>\n",
       "      <td>0</td>\n",
       "      <td>21</td>\n",
       "      <td>1</td>\n",
       "      <td>English</td>\n",
       "    </tr>\n",
       "    <tr>\n",
       "      <th>4</th>\n",
       "      <td>1</td>\n",
       "      <td>0.168761</td>\n",
       "      <td>0.084875</td>\n",
       "      <td>1250.061078</td>\n",
       "      <td>1383.643005</td>\n",
       "      <td>1891.738561</td>\n",
       "      <td>0.074272</td>\n",
       "      <td>-320.786858</td>\n",
       "      <td>109.852414</td>\n",
       "      <td>-13.965514</td>\n",
       "      <td>...</td>\n",
       "      <td>0</td>\n",
       "      <td>0</td>\n",
       "      <td>0</td>\n",
       "      <td>1</td>\n",
       "      <td>3</td>\n",
       "      <td>0</td>\n",
       "      <td>0</td>\n",
       "      <td>60</td>\n",
       "      <td>1</td>\n",
       "      <td>English</td>\n",
       "    </tr>\n",
       "  </tbody>\n",
       "</table>\n",
       "<p>5 rows × 43 columns</p>\n",
       "</div>"
      ],
      "text/plain": [
       "   track id  chroma_stft      rmse  spectral_centroid  spectral_bandwidth  \\\n",
       "0         1     0.168761  0.084875        1250.061078         1383.643005   \n",
       "1         1     0.168761  0.084875        1250.061078         1383.643005   \n",
       "2         1     0.168761  0.084875        1250.061078         1383.643005   \n",
       "3         1     0.168761  0.084875        1250.061078         1383.643005   \n",
       "4         1     0.168761  0.084875        1250.061078         1383.643005   \n",
       "\n",
       "       rolloff  zero_crossing_rate       mfcc1       mfcc2      mfcc3  ...  \\\n",
       "0  1891.738561            0.074272 -320.786858  109.852414 -13.965514  ...   \n",
       "1  1891.738561            0.074272 -320.786858  109.852414 -13.965514  ...   \n",
       "2  1891.738561            0.074272 -320.786858  109.852414 -13.965514  ...   \n",
       "3  1891.738561            0.074272 -320.786858  109.852414 -13.965514  ...   \n",
       "4  1891.738561            0.074272 -320.786858  109.852414 -13.965514  ...   \n",
       "\n",
       "    power   joyful_activation   tension   sadness   mood   liked   disliked  \\\n",
       "0       0                   0         0         1      3       0          0   \n",
       "1       0                   0         0         1      1       1          0   \n",
       "2       0                   0         0         1      4       0          1   \n",
       "3       0                   0         0         0      3       0          0   \n",
       "4       0                   0         0         1      3       0          0   \n",
       "\n",
       "    age   gender   mother tongue  \n",
       "0    30        0         English  \n",
       "1    33        0         Russian  \n",
       "2    51        0         English  \n",
       "3    21        1         English  \n",
       "4    60        1         English  \n",
       "\n",
       "[5 rows x 43 columns]"
      ]
     },
     "execution_count": 2,
     "metadata": {},
     "output_type": "execute_result"
    }
   ],
   "source": [
    "df = pd.read_csv('../data/train_mfcc.csv')\n",
    "df.head()"
   ]
  },
  {
   "cell_type": "markdown",
   "metadata": {},
   "source": [
    "# Perform pandas profiling"
   ]
  },
  {
   "cell_type": "code",
   "execution_count": null,
   "metadata": {},
   "outputs": [
    {
     "data": {
      "application/vnd.jupyter.widget-view+json": {
       "model_id": "196a0bd2de284778ac21fe0d3736e3dc",
       "version_major": 2,
       "version_minor": 0
      },
      "text/plain": [
       "HBox(children=(FloatProgress(value=0.0, description='Summarize dataset', max=57.0, style=ProgressStyle(descrip…"
      ]
     },
     "metadata": {},
     "output_type": "display_data"
    }
   ],
   "source": [
    "from pandas_profiling import ProfileReport\n",
    "prof = ProfileReport(df)\n",
    "prof.to_file(output_file='../data/music_dataset_output.html')"
   ]
  },
  {
   "cell_type": "code",
   "execution_count": 9,
   "metadata": {},
   "outputs": [
    {
     "data": {
      "application/vnd.jupyter.widget-view+json": {
       "model_id": "7799f4ccac1d4ae6863da3d994e6804f",
       "version_major": 2,
       "version_minor": 0
      },
      "text/plain": [
       "HBox(children=(FloatProgress(value=0.0, description='Summarize dataset', max=55.0, style=ProgressStyle(descrip…"
      ]
     },
     "metadata": {},
     "output_type": "display_data"
    },
    {
     "name": "stdout",
     "output_type": "stream",
     "text": [
      "\n"
     ]
    },
    {
     "data": {
      "application/vnd.jupyter.widget-view+json": {
       "model_id": "a1d8225c617c4da19b2f4b55b5548aed",
       "version_major": 2,
       "version_minor": 0
      },
      "text/plain": [
       "HBox(children=(FloatProgress(value=0.0, description='Generate report structure', max=1.0, style=ProgressStyle(…"
      ]
     },
     "metadata": {},
     "output_type": "display_data"
    },
    {
     "name": "stdout",
     "output_type": "stream",
     "text": [
      "\n"
     ]
    },
    {
     "data": {
      "application/vnd.jupyter.widget-view+json": {
       "model_id": "5976772a20ae4e3b94f2befc1ec02373",
       "version_major": 2,
       "version_minor": 0
      },
      "text/plain": [
       "HBox(children=(FloatProgress(value=0.0, description='Render HTML', max=1.0, style=ProgressStyle(description_wi…"
      ]
     },
     "metadata": {},
     "output_type": "display_data"
    },
    {
     "name": "stdout",
     "output_type": "stream",
     "text": [
      "\n"
     ]
    },
    {
     "data": {
      "application/vnd.jupyter.widget-view+json": {
       "model_id": "1d02b4ecc5f54cac94cedff155787022",
       "version_major": 2,
       "version_minor": 0
      },
      "text/plain": [
       "HBox(children=(FloatProgress(value=0.0, description='Export report to file', max=1.0, style=ProgressStyle(desc…"
      ]
     },
     "metadata": {},
     "output_type": "display_data"
    },
    {
     "name": "stdout",
     "output_type": "stream",
     "text": [
      "\n"
     ]
    }
   ],
   "source": [
    "df_clean = df.drop(columns=[ 'spectral_centroid','spectral_bandwidth'])\n",
    "from pandas_profiling import ProfileReport\n",
    "prof = ProfileReport(df_clean)\n",
    "prof.to_file(output_file='../data/music_dataset_output_clean.html')"
   ]
  },
  {
   "cell_type": "markdown",
   "metadata": {},
   "source": [
    "## Interpretation \n",
    "It has been observed through the profiling that :\n",
    "1- Most of the audio features contain outliers,\n",
    "2- Most of the audio features are highly correlated, thus need to remove the most useless features \n",
    "3- Data should be normalized "
   ]
  },
  {
   "cell_type": "markdown",
   "metadata": {},
   "source": [
    "# Correlation matrix"
   ]
  },
  {
   "cell_type": "markdown",
   "metadata": {},
   "source": [
    "## All features correlation matrix "
   ]
  },
  {
   "cell_type": "code",
   "execution_count": null,
   "metadata": {},
   "outputs": [],
   "source": [
    "corr = df.corr()\n",
    "corr.style.background_gradient(cmap='coolwarm')"
   ]
  },
  {
   "cell_type": "markdown",
   "metadata": {},
   "source": [
    "## Emotion feature correlation matrix "
   ]
  },
  {
   "cell_type": "code",
   "execution_count": 5,
   "metadata": {},
   "outputs": [
    {
     "data": {
      "text/html": [
       "<div>\n",
       "<style scoped>\n",
       "    .dataframe tbody tr th:only-of-type {\n",
       "        vertical-align: middle;\n",
       "    }\n",
       "\n",
       "    .dataframe tbody tr th {\n",
       "        vertical-align: top;\n",
       "    }\n",
       "\n",
       "    .dataframe thead th {\n",
       "        text-align: right;\n",
       "    }\n",
       "</style>\n",
       "<table border=\"1\" class=\"dataframe\">\n",
       "  <thead>\n",
       "    <tr style=\"text-align: right;\">\n",
       "      <th></th>\n",
       "      <th>amazement</th>\n",
       "      <th>solemnity</th>\n",
       "      <th>tenderness</th>\n",
       "      <th>nostalgia</th>\n",
       "      <th>calmness</th>\n",
       "      <th>power</th>\n",
       "      <th>joyful_activation</th>\n",
       "      <th>tension</th>\n",
       "      <th>sadness</th>\n",
       "    </tr>\n",
       "  </thead>\n",
       "  <tbody>\n",
       "    <tr>\n",
       "      <th>0</th>\n",
       "      <td>0</td>\n",
       "      <td>0</td>\n",
       "      <td>0</td>\n",
       "      <td>0</td>\n",
       "      <td>0</td>\n",
       "      <td>0</td>\n",
       "      <td>0</td>\n",
       "      <td>0</td>\n",
       "      <td>1</td>\n",
       "    </tr>\n",
       "    <tr>\n",
       "      <th>1</th>\n",
       "      <td>0</td>\n",
       "      <td>0</td>\n",
       "      <td>1</td>\n",
       "      <td>1</td>\n",
       "      <td>0</td>\n",
       "      <td>0</td>\n",
       "      <td>0</td>\n",
       "      <td>0</td>\n",
       "      <td>1</td>\n",
       "    </tr>\n",
       "    <tr>\n",
       "      <th>2</th>\n",
       "      <td>0</td>\n",
       "      <td>1</td>\n",
       "      <td>0</td>\n",
       "      <td>0</td>\n",
       "      <td>1</td>\n",
       "      <td>0</td>\n",
       "      <td>0</td>\n",
       "      <td>0</td>\n",
       "      <td>1</td>\n",
       "    </tr>\n",
       "    <tr>\n",
       "      <th>3</th>\n",
       "      <td>1</td>\n",
       "      <td>1</td>\n",
       "      <td>0</td>\n",
       "      <td>0</td>\n",
       "      <td>1</td>\n",
       "      <td>0</td>\n",
       "      <td>0</td>\n",
       "      <td>0</td>\n",
       "      <td>0</td>\n",
       "    </tr>\n",
       "    <tr>\n",
       "      <th>4</th>\n",
       "      <td>0</td>\n",
       "      <td>1</td>\n",
       "      <td>0</td>\n",
       "      <td>1</td>\n",
       "      <td>0</td>\n",
       "      <td>0</td>\n",
       "      <td>0</td>\n",
       "      <td>0</td>\n",
       "      <td>1</td>\n",
       "    </tr>\n",
       "  </tbody>\n",
       "</table>\n",
       "</div>"
      ],
      "text/plain": [
       "    amazement   solemnity   tenderness   nostalgia   calmness   power  \\\n",
       "0           0           0            0           0          0       0   \n",
       "1           0           0            1           1          0       0   \n",
       "2           0           1            0           0          1       0   \n",
       "3           1           1            0           0          1       0   \n",
       "4           0           1            0           1          0       0   \n",
       "\n",
       "    joyful_activation   tension   sadness  \n",
       "0                   0         0         1  \n",
       "1                   0         0         1  \n",
       "2                   0         0         1  \n",
       "3                   0         0         0  \n",
       "4                   0         0         1  "
      ]
     },
     "execution_count": 5,
     "metadata": {},
     "output_type": "execute_result"
    }
   ],
   "source": [
    "emo_feat = [' amazement', ' solemnity', ' tenderness', ' nostalgia', ' calmness',\n",
    "       ' power', ' joyful_activation', ' tension', ' sadness']\n",
    "df_emotion = df[emo_feat]\n",
    "df_emotion.head()"
   ]
  },
  {
   "cell_type": "code",
   "execution_count": 6,
   "metadata": {},
   "outputs": [
    {
     "data": {
      "text/html": [
       "<style  type=\"text/css\" >\n",
       "#T_a2545ae4_3ba4_11eb_91a8_98fa9b2d9fcdrow0_col0,#T_a2545ae4_3ba4_11eb_91a8_98fa9b2d9fcdrow1_col1,#T_a2545ae4_3ba4_11eb_91a8_98fa9b2d9fcdrow2_col2,#T_a2545ae4_3ba4_11eb_91a8_98fa9b2d9fcdrow3_col3,#T_a2545ae4_3ba4_11eb_91a8_98fa9b2d9fcdrow4_col4,#T_a2545ae4_3ba4_11eb_91a8_98fa9b2d9fcdrow5_col5,#T_a2545ae4_3ba4_11eb_91a8_98fa9b2d9fcdrow6_col6,#T_a2545ae4_3ba4_11eb_91a8_98fa9b2d9fcdrow7_col7,#T_a2545ae4_3ba4_11eb_91a8_98fa9b2d9fcdrow8_col8{\n",
       "            background-color:  #b40426;\n",
       "            color:  #f1f1f1;\n",
       "        }#T_a2545ae4_3ba4_11eb_91a8_98fa9b2d9fcdrow0_col1,#T_a2545ae4_3ba4_11eb_91a8_98fa9b2d9fcdrow8_col1{\n",
       "            background-color:  #4b64d5;\n",
       "            color:  #f1f1f1;\n",
       "        }#T_a2545ae4_3ba4_11eb_91a8_98fa9b2d9fcdrow0_col2,#T_a2545ae4_3ba4_11eb_91a8_98fa9b2d9fcdrow2_col8,#T_a2545ae4_3ba4_11eb_91a8_98fa9b2d9fcdrow8_col4{\n",
       "            background-color:  #6f92f3;\n",
       "            color:  #000000;\n",
       "        }#T_a2545ae4_3ba4_11eb_91a8_98fa9b2d9fcdrow0_col3,#T_a2545ae4_3ba4_11eb_91a8_98fa9b2d9fcdrow4_col1,#T_a2545ae4_3ba4_11eb_91a8_98fa9b2d9fcdrow8_col5{\n",
       "            background-color:  #516ddb;\n",
       "            color:  #000000;\n",
       "        }#T_a2545ae4_3ba4_11eb_91a8_98fa9b2d9fcdrow0_col4{\n",
       "            background-color:  #6e90f2;\n",
       "            color:  #000000;\n",
       "        }#T_a2545ae4_3ba4_11eb_91a8_98fa9b2d9fcdrow0_col5{\n",
       "            background-color:  #80a3fa;\n",
       "            color:  #000000;\n",
       "        }#T_a2545ae4_3ba4_11eb_91a8_98fa9b2d9fcdrow0_col6{\n",
       "            background-color:  #a2c1ff;\n",
       "            color:  #000000;\n",
       "        }#T_a2545ae4_3ba4_11eb_91a8_98fa9b2d9fcdrow0_col7,#T_a2545ae4_3ba4_11eb_91a8_98fa9b2d9fcdrow2_col0,#T_a2545ae4_3ba4_11eb_91a8_98fa9b2d9fcdrow4_col8,#T_a2545ae4_3ba4_11eb_91a8_98fa9b2d9fcdrow6_col7{\n",
       "            background-color:  #6384eb;\n",
       "            color:  #000000;\n",
       "        }#T_a2545ae4_3ba4_11eb_91a8_98fa9b2d9fcdrow0_col8,#T_a2545ae4_3ba4_11eb_91a8_98fa9b2d9fcdrow4_col0{\n",
       "            background-color:  #4e68d8;\n",
       "            color:  #000000;\n",
       "        }#T_a2545ae4_3ba4_11eb_91a8_98fa9b2d9fcdrow1_col0,#T_a2545ae4_3ba4_11eb_91a8_98fa9b2d9fcdrow5_col1{\n",
       "            background-color:  #5977e3;\n",
       "            color:  #000000;\n",
       "        }#T_a2545ae4_3ba4_11eb_91a8_98fa9b2d9fcdrow1_col2{\n",
       "            background-color:  #5a78e4;\n",
       "            color:  #000000;\n",
       "        }#T_a2545ae4_3ba4_11eb_91a8_98fa9b2d9fcdrow1_col3,#T_a2545ae4_3ba4_11eb_91a8_98fa9b2d9fcdrow2_col6{\n",
       "            background-color:  #5d7ce6;\n",
       "            color:  #000000;\n",
       "        }#T_a2545ae4_3ba4_11eb_91a8_98fa9b2d9fcdrow1_col4,#T_a2545ae4_3ba4_11eb_91a8_98fa9b2d9fcdrow4_col3{\n",
       "            background-color:  #7ea1fa;\n",
       "            color:  #000000;\n",
       "        }#T_a2545ae4_3ba4_11eb_91a8_98fa9b2d9fcdrow1_col5{\n",
       "            background-color:  #7699f6;\n",
       "            color:  #000000;\n",
       "        }#T_a2545ae4_3ba4_11eb_91a8_98fa9b2d9fcdrow1_col6{\n",
       "            background-color:  #5b7ae5;\n",
       "            color:  #000000;\n",
       "        }#T_a2545ae4_3ba4_11eb_91a8_98fa9b2d9fcdrow1_col7{\n",
       "            background-color:  #779af7;\n",
       "            color:  #000000;\n",
       "        }#T_a2545ae4_3ba4_11eb_91a8_98fa9b2d9fcdrow1_col8{\n",
       "            background-color:  #6c8ff1;\n",
       "            color:  #000000;\n",
       "        }#T_a2545ae4_3ba4_11eb_91a8_98fa9b2d9fcdrow2_col1{\n",
       "            background-color:  #4055c8;\n",
       "            color:  #f1f1f1;\n",
       "        }#T_a2545ae4_3ba4_11eb_91a8_98fa9b2d9fcdrow2_col3{\n",
       "            background-color:  #86a9fc;\n",
       "            color:  #000000;\n",
       "        }#T_a2545ae4_3ba4_11eb_91a8_98fa9b2d9fcdrow2_col4{\n",
       "            background-color:  #a9c6fd;\n",
       "            color:  #000000;\n",
       "        }#T_a2545ae4_3ba4_11eb_91a8_98fa9b2d9fcdrow2_col5,#T_a2545ae4_3ba4_11eb_91a8_98fa9b2d9fcdrow3_col6{\n",
       "            background-color:  #485fd1;\n",
       "            color:  #f1f1f1;\n",
       "        }#T_a2545ae4_3ba4_11eb_91a8_98fa9b2d9fcdrow2_col7,#T_a2545ae4_3ba4_11eb_91a8_98fa9b2d9fcdrow6_col4{\n",
       "            background-color:  #4f69d9;\n",
       "            color:  #000000;\n",
       "        }#T_a2545ae4_3ba4_11eb_91a8_98fa9b2d9fcdrow3_col0{\n",
       "            background-color:  #465ecf;\n",
       "            color:  #f1f1f1;\n",
       "        }#T_a2545ae4_3ba4_11eb_91a8_98fa9b2d9fcdrow3_col1{\n",
       "            background-color:  #455cce;\n",
       "            color:  #f1f1f1;\n",
       "        }#T_a2545ae4_3ba4_11eb_91a8_98fa9b2d9fcdrow3_col2{\n",
       "            background-color:  #88abfd;\n",
       "            color:  #000000;\n",
       "        }#T_a2545ae4_3ba4_11eb_91a8_98fa9b2d9fcdrow3_col4,#T_a2545ae4_3ba4_11eb_91a8_98fa9b2d9fcdrow6_col0{\n",
       "            background-color:  #92b4fe;\n",
       "            color:  #000000;\n",
       "        }#T_a2545ae4_3ba4_11eb_91a8_98fa9b2d9fcdrow3_col5{\n",
       "            background-color:  #4961d2;\n",
       "            color:  #f1f1f1;\n",
       "        }#T_a2545ae4_3ba4_11eb_91a8_98fa9b2d9fcdrow3_col7{\n",
       "            background-color:  #506bda;\n",
       "            color:  #000000;\n",
       "        }#T_a2545ae4_3ba4_11eb_91a8_98fa9b2d9fcdrow3_col8,#T_a2545ae4_3ba4_11eb_91a8_98fa9b2d9fcdrow6_col5{\n",
       "            background-color:  #98b9ff;\n",
       "            color:  #000000;\n",
       "        }#T_a2545ae4_3ba4_11eb_91a8_98fa9b2d9fcdrow4_col2{\n",
       "            background-color:  #97b8ff;\n",
       "            color:  #000000;\n",
       "        }#T_a2545ae4_3ba4_11eb_91a8_98fa9b2d9fcdrow4_col5,#T_a2545ae4_3ba4_11eb_91a8_98fa9b2d9fcdrow4_col7,#T_a2545ae4_3ba4_11eb_91a8_98fa9b2d9fcdrow6_col1,#T_a2545ae4_3ba4_11eb_91a8_98fa9b2d9fcdrow6_col8,#T_a2545ae4_3ba4_11eb_91a8_98fa9b2d9fcdrow7_col2,#T_a2545ae4_3ba4_11eb_91a8_98fa9b2d9fcdrow7_col3,#T_a2545ae4_3ba4_11eb_91a8_98fa9b2d9fcdrow7_col4,#T_a2545ae4_3ba4_11eb_91a8_98fa9b2d9fcdrow8_col0,#T_a2545ae4_3ba4_11eb_91a8_98fa9b2d9fcdrow8_col6{\n",
       "            background-color:  #3b4cc0;\n",
       "            color:  #f1f1f1;\n",
       "        }#T_a2545ae4_3ba4_11eb_91a8_98fa9b2d9fcdrow4_col6,#T_a2545ae4_3ba4_11eb_91a8_98fa9b2d9fcdrow5_col3,#T_a2545ae4_3ba4_11eb_91a8_98fa9b2d9fcdrow7_col0{\n",
       "            background-color:  #4358cb;\n",
       "            color:  #f1f1f1;\n",
       "        }#T_a2545ae4_3ba4_11eb_91a8_98fa9b2d9fcdrow5_col0{\n",
       "            background-color:  #7093f3;\n",
       "            color:  #000000;\n",
       "        }#T_a2545ae4_3ba4_11eb_91a8_98fa9b2d9fcdrow5_col2{\n",
       "            background-color:  #445acc;\n",
       "            color:  #f1f1f1;\n",
       "        }#T_a2545ae4_3ba4_11eb_91a8_98fa9b2d9fcdrow5_col4,#T_a2545ae4_3ba4_11eb_91a8_98fa9b2d9fcdrow7_col1{\n",
       "            background-color:  #4a63d3;\n",
       "            color:  #f1f1f1;\n",
       "        }#T_a2545ae4_3ba4_11eb_91a8_98fa9b2d9fcdrow5_col6{\n",
       "            background-color:  #9bbcff;\n",
       "            color:  #000000;\n",
       "        }#T_a2545ae4_3ba4_11eb_91a8_98fa9b2d9fcdrow5_col7{\n",
       "            background-color:  #8caffe;\n",
       "            color:  #000000;\n",
       "        }#T_a2545ae4_3ba4_11eb_91a8_98fa9b2d9fcdrow5_col8,#T_a2545ae4_3ba4_11eb_91a8_98fa9b2d9fcdrow6_col2{\n",
       "            background-color:  #5572df;\n",
       "            color:  #000000;\n",
       "        }#T_a2545ae4_3ba4_11eb_91a8_98fa9b2d9fcdrow6_col3{\n",
       "            background-color:  #3e51c5;\n",
       "            color:  #f1f1f1;\n",
       "        }#T_a2545ae4_3ba4_11eb_91a8_98fa9b2d9fcdrow7_col5{\n",
       "            background-color:  #7da0f9;\n",
       "            color:  #000000;\n",
       "        }#T_a2545ae4_3ba4_11eb_91a8_98fa9b2d9fcdrow7_col6{\n",
       "            background-color:  #5673e0;\n",
       "            color:  #000000;\n",
       "        }#T_a2545ae4_3ba4_11eb_91a8_98fa9b2d9fcdrow7_col8{\n",
       "            background-color:  #799cf8;\n",
       "            color:  #000000;\n",
       "        }#T_a2545ae4_3ba4_11eb_91a8_98fa9b2d9fcdrow8_col2{\n",
       "            background-color:  #6788ee;\n",
       "            color:  #000000;\n",
       "        }#T_a2545ae4_3ba4_11eb_91a8_98fa9b2d9fcdrow8_col3{\n",
       "            background-color:  #90b2fe;\n",
       "            color:  #000000;\n",
       "        }#T_a2545ae4_3ba4_11eb_91a8_98fa9b2d9fcdrow8_col7{\n",
       "            background-color:  #85a8fc;\n",
       "            color:  #000000;\n",
       "        }</style><table id=\"T_a2545ae4_3ba4_11eb_91a8_98fa9b2d9fcd\" ><thead>    <tr>        <th class=\"blank level0\" ></th>        <th class=\"col_heading level0 col0\" > amazement</th>        <th class=\"col_heading level0 col1\" > solemnity</th>        <th class=\"col_heading level0 col2\" > tenderness</th>        <th class=\"col_heading level0 col3\" > nostalgia</th>        <th class=\"col_heading level0 col4\" > calmness</th>        <th class=\"col_heading level0 col5\" > power</th>        <th class=\"col_heading level0 col6\" > joyful_activation</th>        <th class=\"col_heading level0 col7\" > tension</th>        <th class=\"col_heading level0 col8\" > sadness</th>    </tr></thead><tbody>\n",
       "                <tr>\n",
       "                        <th id=\"T_a2545ae4_3ba4_11eb_91a8_98fa9b2d9fcdlevel0_row0\" class=\"row_heading level0 row0\" > amazement</th>\n",
       "                        <td id=\"T_a2545ae4_3ba4_11eb_91a8_98fa9b2d9fcdrow0_col0\" class=\"data row0 col0\" >1.000000</td>\n",
       "                        <td id=\"T_a2545ae4_3ba4_11eb_91a8_98fa9b2d9fcdrow0_col1\" class=\"data row0 col1\" >-0.034695</td>\n",
       "                        <td id=\"T_a2545ae4_3ba4_11eb_91a8_98fa9b2d9fcdrow0_col2\" class=\"data row0 col2\" >0.002308</td>\n",
       "                        <td id=\"T_a2545ae4_3ba4_11eb_91a8_98fa9b2d9fcdrow0_col3\" class=\"data row0 col3\" >-0.099185</td>\n",
       "                        <td id=\"T_a2545ae4_3ba4_11eb_91a8_98fa9b2d9fcdrow0_col4\" class=\"data row0 col4\" >-0.072947</td>\n",
       "                        <td id=\"T_a2545ae4_3ba4_11eb_91a8_98fa9b2d9fcdrow0_col5\" class=\"data row0 col5\" >0.046472</td>\n",
       "                        <td id=\"T_a2545ae4_3ba4_11eb_91a8_98fa9b2d9fcdrow0_col6\" class=\"data row0 col6\" >0.155424</td>\n",
       "                        <td id=\"T_a2545ae4_3ba4_11eb_91a8_98fa9b2d9fcdrow0_col7\" class=\"data row0 col7\" >-0.114553</td>\n",
       "                        <td id=\"T_a2545ae4_3ba4_11eb_91a8_98fa9b2d9fcdrow0_col8\" class=\"data row0 col8\" >-0.146969</td>\n",
       "            </tr>\n",
       "            <tr>\n",
       "                        <th id=\"T_a2545ae4_3ba4_11eb_91a8_98fa9b2d9fcdlevel0_row1\" class=\"row_heading level0 row1\" > solemnity</th>\n",
       "                        <td id=\"T_a2545ae4_3ba4_11eb_91a8_98fa9b2d9fcdrow1_col0\" class=\"data row1 col0\" >-0.034695</td>\n",
       "                        <td id=\"T_a2545ae4_3ba4_11eb_91a8_98fa9b2d9fcdrow1_col1\" class=\"data row1 col1\" >1.000000</td>\n",
       "                        <td id=\"T_a2545ae4_3ba4_11eb_91a8_98fa9b2d9fcdrow1_col2\" class=\"data row1 col2\" >-0.072575</td>\n",
       "                        <td id=\"T_a2545ae4_3ba4_11eb_91a8_98fa9b2d9fcdrow1_col3\" class=\"data row1 col3\" >-0.059082</td>\n",
       "                        <td id=\"T_a2545ae4_3ba4_11eb_91a8_98fa9b2d9fcdrow1_col4\" class=\"data row1 col4\" >-0.012520</td>\n",
       "                        <td id=\"T_a2545ae4_3ba4_11eb_91a8_98fa9b2d9fcdrow1_col5\" class=\"data row1 col5\" >0.012750</td>\n",
       "                        <td id=\"T_a2545ae4_3ba4_11eb_91a8_98fa9b2d9fcdrow1_col6\" class=\"data row1 col6\" >-0.098162</td>\n",
       "                        <td id=\"T_a2545ae4_3ba4_11eb_91a8_98fa9b2d9fcdrow1_col7\" class=\"data row1 col7\" >-0.040608</td>\n",
       "                        <td id=\"T_a2545ae4_3ba4_11eb_91a8_98fa9b2d9fcdrow1_col8\" class=\"data row1 col8\" >-0.034689</td>\n",
       "            </tr>\n",
       "            <tr>\n",
       "                        <th id=\"T_a2545ae4_3ba4_11eb_91a8_98fa9b2d9fcdlevel0_row2\" class=\"row_heading level0 row2\" > tenderness</th>\n",
       "                        <td id=\"T_a2545ae4_3ba4_11eb_91a8_98fa9b2d9fcdrow2_col0\" class=\"data row2 col0\" >0.002308</td>\n",
       "                        <td id=\"T_a2545ae4_3ba4_11eb_91a8_98fa9b2d9fcdrow2_col1\" class=\"data row2 col1\" >-0.072575</td>\n",
       "                        <td id=\"T_a2545ae4_3ba4_11eb_91a8_98fa9b2d9fcdrow2_col2\" class=\"data row2 col2\" >1.000000</td>\n",
       "                        <td id=\"T_a2545ae4_3ba4_11eb_91a8_98fa9b2d9fcdrow2_col3\" class=\"data row2 col3\" >0.087216</td>\n",
       "                        <td id=\"T_a2545ae4_3ba4_11eb_91a8_98fa9b2d9fcdrow2_col4\" class=\"data row2 col4\" >0.140270</td>\n",
       "                        <td id=\"T_a2545ae4_3ba4_11eb_91a8_98fa9b2d9fcdrow2_col5\" class=\"data row2 col5\" >-0.156100</td>\n",
       "                        <td id=\"T_a2545ae4_3ba4_11eb_91a8_98fa9b2d9fcdrow2_col6\" class=\"data row2 col6\" >-0.091257</td>\n",
       "                        <td id=\"T_a2545ae4_3ba4_11eb_91a8_98fa9b2d9fcdrow2_col7\" class=\"data row2 col7\" >-0.195904</td>\n",
       "                        <td id=\"T_a2545ae4_3ba4_11eb_91a8_98fa9b2d9fcdrow2_col8\" class=\"data row2 col8\" >-0.023642</td>\n",
       "            </tr>\n",
       "            <tr>\n",
       "                        <th id=\"T_a2545ae4_3ba4_11eb_91a8_98fa9b2d9fcdlevel0_row3\" class=\"row_heading level0 row3\" > nostalgia</th>\n",
       "                        <td id=\"T_a2545ae4_3ba4_11eb_91a8_98fa9b2d9fcdrow3_col0\" class=\"data row3 col0\" >-0.099185</td>\n",
       "                        <td id=\"T_a2545ae4_3ba4_11eb_91a8_98fa9b2d9fcdrow3_col1\" class=\"data row3 col1\" >-0.059082</td>\n",
       "                        <td id=\"T_a2545ae4_3ba4_11eb_91a8_98fa9b2d9fcdrow3_col2\" class=\"data row3 col2\" >0.087216</td>\n",
       "                        <td id=\"T_a2545ae4_3ba4_11eb_91a8_98fa9b2d9fcdrow3_col3\" class=\"data row3 col3\" >1.000000</td>\n",
       "                        <td id=\"T_a2545ae4_3ba4_11eb_91a8_98fa9b2d9fcdrow3_col4\" class=\"data row3 col4\" >0.057075</td>\n",
       "                        <td id=\"T_a2545ae4_3ba4_11eb_91a8_98fa9b2d9fcdrow3_col5\" class=\"data row3 col5\" >-0.155181</td>\n",
       "                        <td id=\"T_a2545ae4_3ba4_11eb_91a8_98fa9b2d9fcdrow3_col6\" class=\"data row3 col6\" >-0.173886</td>\n",
       "                        <td id=\"T_a2545ae4_3ba4_11eb_91a8_98fa9b2d9fcdrow3_col7\" class=\"data row3 col7\" >-0.190797</td>\n",
       "                        <td id=\"T_a2545ae4_3ba4_11eb_91a8_98fa9b2d9fcdrow3_col8\" class=\"data row3 col8\" >0.118118</td>\n",
       "            </tr>\n",
       "            <tr>\n",
       "                        <th id=\"T_a2545ae4_3ba4_11eb_91a8_98fa9b2d9fcdlevel0_row4\" class=\"row_heading level0 row4\" > calmness</th>\n",
       "                        <td id=\"T_a2545ae4_3ba4_11eb_91a8_98fa9b2d9fcdrow4_col0\" class=\"data row4 col0\" >-0.072947</td>\n",
       "                        <td id=\"T_a2545ae4_3ba4_11eb_91a8_98fa9b2d9fcdrow4_col1\" class=\"data row4 col1\" >-0.012520</td>\n",
       "                        <td id=\"T_a2545ae4_3ba4_11eb_91a8_98fa9b2d9fcdrow4_col2\" class=\"data row4 col2\" >0.140270</td>\n",
       "                        <td id=\"T_a2545ae4_3ba4_11eb_91a8_98fa9b2d9fcdrow4_col3\" class=\"data row4 col3\" >0.057075</td>\n",
       "                        <td id=\"T_a2545ae4_3ba4_11eb_91a8_98fa9b2d9fcdrow4_col4\" class=\"data row4 col4\" >1.000000</td>\n",
       "                        <td id=\"T_a2545ae4_3ba4_11eb_91a8_98fa9b2d9fcdrow4_col5\" class=\"data row4 col5\" >-0.212538</td>\n",
       "                        <td id=\"T_a2545ae4_3ba4_11eb_91a8_98fa9b2d9fcdrow4_col6\" class=\"data row4 col6\" >-0.193518</td>\n",
       "                        <td id=\"T_a2545ae4_3ba4_11eb_91a8_98fa9b2d9fcdrow4_col7\" class=\"data row4 col7\" >-0.281527</td>\n",
       "                        <td id=\"T_a2545ae4_3ba4_11eb_91a8_98fa9b2d9fcdrow4_col8\" class=\"data row4 col8\" >-0.069646</td>\n",
       "            </tr>\n",
       "            <tr>\n",
       "                        <th id=\"T_a2545ae4_3ba4_11eb_91a8_98fa9b2d9fcdlevel0_row5\" class=\"row_heading level0 row5\" > power</th>\n",
       "                        <td id=\"T_a2545ae4_3ba4_11eb_91a8_98fa9b2d9fcdrow5_col0\" class=\"data row5 col0\" >0.046472</td>\n",
       "                        <td id=\"T_a2545ae4_3ba4_11eb_91a8_98fa9b2d9fcdrow5_col1\" class=\"data row5 col1\" >0.012750</td>\n",
       "                        <td id=\"T_a2545ae4_3ba4_11eb_91a8_98fa9b2d9fcdrow5_col2\" class=\"data row5 col2\" >-0.156100</td>\n",
       "                        <td id=\"T_a2545ae4_3ba4_11eb_91a8_98fa9b2d9fcdrow5_col3\" class=\"data row5 col3\" >-0.155181</td>\n",
       "                        <td id=\"T_a2545ae4_3ba4_11eb_91a8_98fa9b2d9fcdrow5_col4\" class=\"data row5 col4\" >-0.212538</td>\n",
       "                        <td id=\"T_a2545ae4_3ba4_11eb_91a8_98fa9b2d9fcdrow5_col5\" class=\"data row5 col5\" >1.000000</td>\n",
       "                        <td id=\"T_a2545ae4_3ba4_11eb_91a8_98fa9b2d9fcdrow5_col6\" class=\"data row5 col6\" >0.128937</td>\n",
       "                        <td id=\"T_a2545ae4_3ba4_11eb_91a8_98fa9b2d9fcdrow5_col7\" class=\"data row5 col7\" >0.038252</td>\n",
       "                        <td id=\"T_a2545ae4_3ba4_11eb_91a8_98fa9b2d9fcdrow5_col8\" class=\"data row5 col8\" >-0.121927</td>\n",
       "            </tr>\n",
       "            <tr>\n",
       "                        <th id=\"T_a2545ae4_3ba4_11eb_91a8_98fa9b2d9fcdlevel0_row6\" class=\"row_heading level0 row6\" > joyful_activation</th>\n",
       "                        <td id=\"T_a2545ae4_3ba4_11eb_91a8_98fa9b2d9fcdrow6_col0\" class=\"data row6 col0\" >0.155424</td>\n",
       "                        <td id=\"T_a2545ae4_3ba4_11eb_91a8_98fa9b2d9fcdrow6_col1\" class=\"data row6 col1\" >-0.098162</td>\n",
       "                        <td id=\"T_a2545ae4_3ba4_11eb_91a8_98fa9b2d9fcdrow6_col2\" class=\"data row6 col2\" >-0.091257</td>\n",
       "                        <td id=\"T_a2545ae4_3ba4_11eb_91a8_98fa9b2d9fcdrow6_col3\" class=\"data row6 col3\" >-0.173886</td>\n",
       "                        <td id=\"T_a2545ae4_3ba4_11eb_91a8_98fa9b2d9fcdrow6_col4\" class=\"data row6 col4\" >-0.193518</td>\n",
       "                        <td id=\"T_a2545ae4_3ba4_11eb_91a8_98fa9b2d9fcdrow6_col5\" class=\"data row6 col5\" >0.128937</td>\n",
       "                        <td id=\"T_a2545ae4_3ba4_11eb_91a8_98fa9b2d9fcdrow6_col6\" class=\"data row6 col6\" >1.000000</td>\n",
       "                        <td id=\"T_a2545ae4_3ba4_11eb_91a8_98fa9b2d9fcdrow6_col7\" class=\"data row6 col7\" >-0.115181</td>\n",
       "                        <td id=\"T_a2545ae4_3ba4_11eb_91a8_98fa9b2d9fcdrow6_col8\" class=\"data row6 col8\" >-0.228275</td>\n",
       "            </tr>\n",
       "            <tr>\n",
       "                        <th id=\"T_a2545ae4_3ba4_11eb_91a8_98fa9b2d9fcdlevel0_row7\" class=\"row_heading level0 row7\" > tension</th>\n",
       "                        <td id=\"T_a2545ae4_3ba4_11eb_91a8_98fa9b2d9fcdrow7_col0\" class=\"data row7 col0\" >-0.114553</td>\n",
       "                        <td id=\"T_a2545ae4_3ba4_11eb_91a8_98fa9b2d9fcdrow7_col1\" class=\"data row7 col1\" >-0.040608</td>\n",
       "                        <td id=\"T_a2545ae4_3ba4_11eb_91a8_98fa9b2d9fcdrow7_col2\" class=\"data row7 col2\" >-0.195904</td>\n",
       "                        <td id=\"T_a2545ae4_3ba4_11eb_91a8_98fa9b2d9fcdrow7_col3\" class=\"data row7 col3\" >-0.190797</td>\n",
       "                        <td id=\"T_a2545ae4_3ba4_11eb_91a8_98fa9b2d9fcdrow7_col4\" class=\"data row7 col4\" >-0.281527</td>\n",
       "                        <td id=\"T_a2545ae4_3ba4_11eb_91a8_98fa9b2d9fcdrow7_col5\" class=\"data row7 col5\" >0.038252</td>\n",
       "                        <td id=\"T_a2545ae4_3ba4_11eb_91a8_98fa9b2d9fcdrow7_col6\" class=\"data row7 col6\" >-0.115181</td>\n",
       "                        <td id=\"T_a2545ae4_3ba4_11eb_91a8_98fa9b2d9fcdrow7_col7\" class=\"data row7 col7\" >1.000000</td>\n",
       "                        <td id=\"T_a2545ae4_3ba4_11eb_91a8_98fa9b2d9fcdrow7_col8\" class=\"data row7 col8\" >0.010221</td>\n",
       "            </tr>\n",
       "            <tr>\n",
       "                        <th id=\"T_a2545ae4_3ba4_11eb_91a8_98fa9b2d9fcdlevel0_row8\" class=\"row_heading level0 row8\" > sadness</th>\n",
       "                        <td id=\"T_a2545ae4_3ba4_11eb_91a8_98fa9b2d9fcdrow8_col0\" class=\"data row8 col0\" >-0.146969</td>\n",
       "                        <td id=\"T_a2545ae4_3ba4_11eb_91a8_98fa9b2d9fcdrow8_col1\" class=\"data row8 col1\" >-0.034689</td>\n",
       "                        <td id=\"T_a2545ae4_3ba4_11eb_91a8_98fa9b2d9fcdrow8_col2\" class=\"data row8 col2\" >-0.023642</td>\n",
       "                        <td id=\"T_a2545ae4_3ba4_11eb_91a8_98fa9b2d9fcdrow8_col3\" class=\"data row8 col3\" >0.118118</td>\n",
       "                        <td id=\"T_a2545ae4_3ba4_11eb_91a8_98fa9b2d9fcdrow8_col4\" class=\"data row8 col4\" >-0.069646</td>\n",
       "                        <td id=\"T_a2545ae4_3ba4_11eb_91a8_98fa9b2d9fcdrow8_col5\" class=\"data row8 col5\" >-0.121927</td>\n",
       "                        <td id=\"T_a2545ae4_3ba4_11eb_91a8_98fa9b2d9fcdrow8_col6\" class=\"data row8 col6\" >-0.228275</td>\n",
       "                        <td id=\"T_a2545ae4_3ba4_11eb_91a8_98fa9b2d9fcdrow8_col7\" class=\"data row8 col7\" >0.010221</td>\n",
       "                        <td id=\"T_a2545ae4_3ba4_11eb_91a8_98fa9b2d9fcdrow8_col8\" class=\"data row8 col8\" >1.000000</td>\n",
       "            </tr>\n",
       "    </tbody></table>"
      ],
      "text/plain": [
       "<pandas.io.formats.style.Styler at 0x1de29f4f710>"
      ]
     },
     "execution_count": 6,
     "metadata": {},
     "output_type": "execute_result"
    }
   ],
   "source": [
    "emo_corr = df_emotion.corr()\n",
    "emo_corr.style.background_gradient(cmap='coolwarm')"
   ]
  },
  {
   "cell_type": "markdown",
   "metadata": {},
   "source": [
    "## Grouping by \"Track id\" and by average of the LABELS to release the proportions by people feeling a particular emotion. "
   ]
  },
  {
   "cell_type": "code",
   "execution_count": null,
   "metadata": {},
   "outputs": [],
   "source": [
    "df_emotion = df_emotion[emo_feat + ['track id']]\n",
    "df_emotion.head()"
   ]
  },
  {
   "cell_type": "markdown",
   "metadata": {},
   "source": [
    "## Grouping Track id by average to get the proportions."
   ]
  },
  {
   "cell_type": "code",
   "execution_count": null,
   "metadata": {},
   "outputs": [],
   "source": [
    "db = df_emotion.groupby('track id')[LABELS].mean()\n",
    "db.head()"
   ]
  },
  {
   "cell_type": "markdown",
   "metadata": {},
   "source": [
    "### Interpretation\n",
    "For track id = 1 only 14% of people feel improvement, against 33% solemnity, against 20% tenderness ...\n",
    "For a complete vision we will analyze the distribution of the proportions:"
   ]
  },
  {
   "cell_type": "code",
   "execution_count": null,
   "metadata": {},
   "outputs": [],
   "source": [
    "db.describe()"
   ]
  },
  {
   "cell_type": "markdown",
   "metadata": {},
   "source": [
    "1- Overall, many of the subject did not feel any emotion\n",
    "2- All the subjects do not share the same feelings for the same song,\n",
    "3- In other words, Trying to predict the emotions only by the means of the audio features is not enough. Unfortunately, we do not possess enough information regarding the user. "
   ]
  },
  {
   "cell_type": "code",
   "execution_count": null,
   "metadata": {},
   "outputs": [],
   "source": [
    "\n",
    "import seaborn as sns\n",
    "sns.set_theme(style=\"whitegrid\")\n",
    "\n",
    "ax = sns.barplot(x=\"\", y=\"total_bill\", data=tips)\n"
   ]
  }
 ],
 "metadata": {
  "kernelspec": {
   "display_name": "Python 3",
   "language": "python",
   "name": "python3"
  },
  "language_info": {
   "codemirror_mode": {
    "name": "ipython",
    "version": 3
   },
   "file_extension": ".py",
   "mimetype": "text/x-python",
   "name": "python",
   "nbconvert_exporter": "python",
   "pygments_lexer": "ipython3",
   "version": "3.7.3"
  }
 },
 "nbformat": 4,
 "nbformat_minor": 2
}
