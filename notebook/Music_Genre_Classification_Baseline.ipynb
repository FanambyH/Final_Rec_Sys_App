{
 "cells": [
  {
   "cell_type": "code",
   "execution_count": 1,
   "metadata": {},
   "outputs": [],
   "source": [
    "import numpy as np\n",
    "from sklearn.model_selection import KFold, StratifiedKFold\n",
    "import pandas as pd\n",
    "from matplotlib import pyplot as plt\n",
    "from xgboost import XGBClassifier\n",
    "from sklearn.metrics import roc_auc_score\n",
    "from sklearn.neural_network import MLPClassifier\n",
    "from sklearn.preprocessing import StandardScaler, MinMaxScaler\n",
    "from lightgbm import LGBMClassifier, plot_importance\n",
    "from sklearn.metrics import accuracy_score\n",
    "from sklearn.preprocessing import LabelEncoder \n",
    "%matplotlib inline"
   ]
  },
  {
   "cell_type": "code",
   "execution_count": 2,
   "metadata": {},
   "outputs": [
    {
     "data": {
      "text/html": [
       "<div>\n",
       "<style scoped>\n",
       "    .dataframe tbody tr th:only-of-type {\n",
       "        vertical-align: middle;\n",
       "    }\n",
       "\n",
       "    .dataframe tbody tr th {\n",
       "        vertical-align: top;\n",
       "    }\n",
       "\n",
       "    .dataframe thead th {\n",
       "        text-align: right;\n",
       "    }\n",
       "</style>\n",
       "<table border=\"1\" class=\"dataframe\">\n",
       "  <thead>\n",
       "    <tr style=\"text-align: right;\">\n",
       "      <th></th>\n",
       "      <th>track id</th>\n",
       "      <th>chroma_sftf</th>\n",
       "      <th>rolloff</th>\n",
       "      <th>zero_crossing_rate</th>\n",
       "      <th>rmse</th>\n",
       "      <th>flux</th>\n",
       "      <th>contrast</th>\n",
       "      <th>flatness</th>\n",
       "      <th>sample_silence</th>\n",
       "      <th>mfcc_0</th>\n",
       "      <th>...</th>\n",
       "      <th>power</th>\n",
       "      <th>joyful_activation</th>\n",
       "      <th>tension</th>\n",
       "      <th>sadness</th>\n",
       "      <th>mood</th>\n",
       "      <th>liked</th>\n",
       "      <th>disliked</th>\n",
       "      <th>age</th>\n",
       "      <th>gender</th>\n",
       "      <th>mother tongue</th>\n",
       "    </tr>\n",
       "  </thead>\n",
       "  <tbody>\n",
       "    <tr>\n",
       "      <th>0</th>\n",
       "      <td>1</td>\n",
       "      <td>0.168468</td>\n",
       "      <td>5243.018296</td>\n",
       "      <td>0.115553</td>\n",
       "      <td>0.021488</td>\n",
       "      <td>1.004327</td>\n",
       "      <td>27.502646</td>\n",
       "      <td>0.00545</td>\n",
       "      <td>0</td>\n",
       "      <td>-404.308594</td>\n",
       "      <td>...</td>\n",
       "      <td>0</td>\n",
       "      <td>0</td>\n",
       "      <td>0</td>\n",
       "      <td>1</td>\n",
       "      <td>3</td>\n",
       "      <td>0</td>\n",
       "      <td>0</td>\n",
       "      <td>30</td>\n",
       "      <td>0</td>\n",
       "      <td>English</td>\n",
       "    </tr>\n",
       "    <tr>\n",
       "      <th>1</th>\n",
       "      <td>1</td>\n",
       "      <td>0.168468</td>\n",
       "      <td>5243.018296</td>\n",
       "      <td>0.115553</td>\n",
       "      <td>0.021488</td>\n",
       "      <td>1.004327</td>\n",
       "      <td>27.502646</td>\n",
       "      <td>0.00545</td>\n",
       "      <td>0</td>\n",
       "      <td>-404.308594</td>\n",
       "      <td>...</td>\n",
       "      <td>0</td>\n",
       "      <td>0</td>\n",
       "      <td>0</td>\n",
       "      <td>1</td>\n",
       "      <td>1</td>\n",
       "      <td>1</td>\n",
       "      <td>0</td>\n",
       "      <td>33</td>\n",
       "      <td>0</td>\n",
       "      <td>Russian</td>\n",
       "    </tr>\n",
       "    <tr>\n",
       "      <th>2</th>\n",
       "      <td>1</td>\n",
       "      <td>0.168468</td>\n",
       "      <td>5243.018296</td>\n",
       "      <td>0.115553</td>\n",
       "      <td>0.021488</td>\n",
       "      <td>1.004327</td>\n",
       "      <td>27.502646</td>\n",
       "      <td>0.00545</td>\n",
       "      <td>0</td>\n",
       "      <td>-404.308594</td>\n",
       "      <td>...</td>\n",
       "      <td>0</td>\n",
       "      <td>0</td>\n",
       "      <td>0</td>\n",
       "      <td>1</td>\n",
       "      <td>4</td>\n",
       "      <td>0</td>\n",
       "      <td>1</td>\n",
       "      <td>51</td>\n",
       "      <td>0</td>\n",
       "      <td>English</td>\n",
       "    </tr>\n",
       "    <tr>\n",
       "      <th>3</th>\n",
       "      <td>1</td>\n",
       "      <td>0.168468</td>\n",
       "      <td>5243.018296</td>\n",
       "      <td>0.115553</td>\n",
       "      <td>0.021488</td>\n",
       "      <td>1.004327</td>\n",
       "      <td>27.502646</td>\n",
       "      <td>0.00545</td>\n",
       "      <td>0</td>\n",
       "      <td>-404.308594</td>\n",
       "      <td>...</td>\n",
       "      <td>0</td>\n",
       "      <td>0</td>\n",
       "      <td>0</td>\n",
       "      <td>0</td>\n",
       "      <td>3</td>\n",
       "      <td>0</td>\n",
       "      <td>0</td>\n",
       "      <td>21</td>\n",
       "      <td>1</td>\n",
       "      <td>English</td>\n",
       "    </tr>\n",
       "    <tr>\n",
       "      <th>4</th>\n",
       "      <td>1</td>\n",
       "      <td>0.168468</td>\n",
       "      <td>5243.018296</td>\n",
       "      <td>0.115553</td>\n",
       "      <td>0.021488</td>\n",
       "      <td>1.004327</td>\n",
       "      <td>27.502646</td>\n",
       "      <td>0.00545</td>\n",
       "      <td>0</td>\n",
       "      <td>-404.308594</td>\n",
       "      <td>...</td>\n",
       "      <td>0</td>\n",
       "      <td>0</td>\n",
       "      <td>0</td>\n",
       "      <td>1</td>\n",
       "      <td>3</td>\n",
       "      <td>0</td>\n",
       "      <td>0</td>\n",
       "      <td>60</td>\n",
       "      <td>1</td>\n",
       "      <td>English</td>\n",
       "    </tr>\n",
       "  </tbody>\n",
       "</table>\n",
       "<p>5 rows × 46 columns</p>\n",
       "</div>"
      ],
      "text/plain": [
       "   track id  chroma_sftf      rolloff  zero_crossing_rate      rmse      flux  \\\n",
       "0         1     0.168468  5243.018296            0.115553  0.021488  1.004327   \n",
       "1         1     0.168468  5243.018296            0.115553  0.021488  1.004327   \n",
       "2         1     0.168468  5243.018296            0.115553  0.021488  1.004327   \n",
       "3         1     0.168468  5243.018296            0.115553  0.021488  1.004327   \n",
       "4         1     0.168468  5243.018296            0.115553  0.021488  1.004327   \n",
       "\n",
       "    contrast  flatness  sample_silence      mfcc_0  ...   power  \\\n",
       "0  27.502646   0.00545               0 -404.308594  ...       0   \n",
       "1  27.502646   0.00545               0 -404.308594  ...       0   \n",
       "2  27.502646   0.00545               0 -404.308594  ...       0   \n",
       "3  27.502646   0.00545               0 -404.308594  ...       0   \n",
       "4  27.502646   0.00545               0 -404.308594  ...       0   \n",
       "\n",
       "    joyful_activation   tension   sadness   mood   liked   disliked   age  \\\n",
       "0                   0         0         1      3       0          0    30   \n",
       "1                   0         0         1      1       1          0    33   \n",
       "2                   0         0         1      4       0          1    51   \n",
       "3                   0         0         0      3       0          0    21   \n",
       "4                   0         0         1      3       0          0    60   \n",
       "\n",
       "    gender   mother tongue  \n",
       "0        0         English  \n",
       "1        0         Russian  \n",
       "2        0         English  \n",
       "3        1         English  \n",
       "4        1         English  \n",
       "\n",
       "[5 rows x 46 columns]"
      ]
     },
     "execution_count": 2,
     "metadata": {},
     "output_type": "execute_result"
    }
   ],
   "source": [
    "train = pd.read_csv(\"../Data/music-genre-dataset/train_new_feat.csv\")\n",
    "train.head()"
   ]
  },
  {
   "cell_type": "code",
   "execution_count": 3,
   "metadata": {},
   "outputs": [],
   "source": [
    "#Drop useless features\n",
    "useless = [ ' mother tongue', ' amazement',\n",
    "       ' solemnity', ' tenderness', ' nostalgia', ' calmness', ' power',\n",
    "       ' joyful_activation', ' tension', ' sadness', ' age', ' gender', ' mood', ' liked', ' disliked', 'sample_silence']\n",
    "train  = train.drop(useless, 1)"
   ]
  },
  {
   "cell_type": "code",
   "execution_count": 4,
   "metadata": {},
   "outputs": [],
   "source": [
    "# Drop Duplicates  rows to avoid overfiting\n",
    "train = train.drop_duplicates()"
   ]
  },
  {
   "cell_type": "code",
   "execution_count": 5,
   "metadata": {},
   "outputs": [
    {
     "name": "stdout",
     "output_type": "stream",
     "text": [
      " original target value: [0 1 2 3]\n",
      " encoded target value: [0 1 2 3]\n"
     ]
    }
   ],
   "source": [
    "LABEL = 'genre'\n",
    "# Encode LABEL\n",
    "print(f' original target value: {train[LABEL].unique()}')\n",
    "lb = LabelEncoder()\n",
    "train[LABEL] = lb.fit_transform(train[LABEL])\n",
    "print(f' encoded target value: {train[LABEL].unique()}')"
   ]
  },
  {
   "cell_type": "code",
   "execution_count": 10,
   "metadata": {},
   "outputs": [],
   "source": [
    "#save lb \n",
    "filename = f'../model_saved/LB_genre.sav'\n",
    "pickle.dump(lb, open(filename, 'wb'))"
   ]
  },
  {
   "cell_type": "code",
   "execution_count": 6,
   "metadata": {},
   "outputs": [
    {
     "name": "stdout",
     "output_type": "stream",
     "text": [
      "base features: ['chroma_sftf', 'rolloff', 'zero_crossing_rate', 'rmse', 'flux', 'contrast', 'flatness', 'mfcc_0', 'mfcc_1', 'mfcc_2', 'mfcc_3', 'mfcc_4', 'mfcc_5', 'mfcc_6', 'mfcc_7', 'mfcc_8', 'mfcc_9', 'mfcc_10', 'mfcc_11', 'mfcc_12', 'mfcc_13', 'mfcc_14', 'mfcc_15', 'mfcc_16', 'mfcc_17', 'mfcc_18', 'mfcc_19', 'tempo']\n"
     ]
    }
   ],
   "source": [
    "#Get list of base Features\n",
    "FEATURES = train.columns.drop(['track id', LABEL])\n",
    "print(f\"base features: {FEATURES.tolist()}\")"
   ]
  },
  {
   "cell_type": "code",
   "execution_count": 7,
   "metadata": {},
   "outputs": [
    {
     "name": "stdout",
     "output_type": "stream",
     "text": [
      "Fold #1 AUC : 0.88\n",
      "Fold #2 AUC : 0.84\n",
      "Fold #3 AUC : 0.87\n",
      "Fold #4 AUC : 0.83\n",
      "Fold #5 AUC : 0.81\n",
      "Full AUC  : 0.85\n"
     ]
    }
   ],
   "source": [
    "# Model Validation \n",
    "epochs = 5\n",
    "kf = StratifiedKFold(n_splits=epochs, shuffle=True, random_state=1997)  # 30, n_split 3\n",
    "X_train = train[FEATURES] \n",
    "y_train = train[LABEL]\n",
    "y_oof = np.zeros([X_train.shape[0], 4])\n",
    "i = 0\n",
    "METRICS = []\n",
    "for tr_idx, val_idx in kf.split(X_train, y_train):\n",
    "    X_tr, X_vl = X_train.iloc[tr_idx, :], X_train.iloc[val_idx, :]\n",
    "    y_tr, y_vl = y_train.iloc[tr_idx], y_train.iloc[val_idx]\n",
    "    model = LGBMClassifier(random_state=47)  \n",
    "    model.fit(X_tr, y_tr) \n",
    "    y_pred = model.predict_proba(X_vl)\n",
    "    y_oof[val_idx, :] = y_pred\n",
    "    i += 1\n",
    "    acc = roc_auc_score(pd.get_dummies(y_vl), y_pred, multi_class='ovr')\n",
    "    print(f\"Fold #{i} AUC : {round(acc, 2)}\")\n",
    "metric = roc_auc_score(pd.get_dummies(y_train), y_oof, multi_class='ovr')\n",
    "print(f\"Full AUC  : {round(metric, 2)}\")"
   ]
  },
  {
   "cell_type": "code",
   "execution_count": 9,
   "metadata": {},
   "outputs": [],
   "source": [
    "import pickle\n",
    "filename = f'../model_saved/Music_Genre_Clf.sav'\n",
    "pickle.dump(model, open(filename, 'wb'))"
   ]
  },
  {
   "cell_type": "code",
   "execution_count": 10,
   "metadata": {},
   "outputs": [
    {
     "data": {
      "text/plain": [
       "<AxesSubplot:title={'center':'Feature importance'}, xlabel='Feature importance', ylabel='Features'>"
      ]
     },
     "execution_count": 10,
     "metadata": {},
     "output_type": "execute_result"
    },
    {
     "data": {
      "image/png": "[encoded data removed]",
      "text/plain": [
       "<Figure size 1080x360 with 1 Axes>"
      ]
     },
     "metadata": {
      "needs_background": "light"
     },
     "output_type": "display_data"
    }
   ],
   "source": [
    "#Plot Features importances\n",
    "plot_importance(model, figsize=(15, 5))"
   ]
  }
 ],
 "metadata": {
  "kernelspec": {
   "display_name": "Python 3",
   "language": "python",
   "name": "python3"
  },
  "language_info": {
   "codemirror_mode": {
    "name": "ipython",
    "version": 3
   },
   "file_extension": ".py",
   "mimetype": "text/x-python",
   "name": "python",
   "nbconvert_exporter": "python",
   "pygments_lexer": "ipython3",
   "version": "3.7.3"
  }
 },
 "nbformat": 4,
 "nbformat_minor": 2
}
